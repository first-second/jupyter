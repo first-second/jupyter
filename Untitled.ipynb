{
 "cells": [
  {
   "cell_type": "code",
   "execution_count": 2,
   "id": "4180a5e0",
   "metadata": {},
   "outputs": [
    {
     "name": "stdout",
     "output_type": "stream",
     "text": [
      "enter names with 1 space : adarsh deepak rahul jatin\n",
      "['adarsh', 'deepak', 'rahul', 'jatin']\n"
     ]
    }
   ],
   "source": [
    "st=str(input(\"enter names with 1 space : \"))\n",
    "l=list(st.split(\" \"))\n",
    "print(l)"
   ]
  },
  {
   "cell_type": "code",
   "execution_count": 9,
   "id": "1b04bdfc",
   "metadata": {},
   "outputs": [
    {
     "name": "stdout",
     "output_type": "stream",
     "text": [
      "06_01_23\n"
     ]
    }
   ],
   "source": [
    "from datetime import date\n",
    "today=date.today()\n",
    "d=today.strftime(\"%d_%m_%y\")\n",
    "print(f\"{d}\")"
   ]
  },
  {
   "cell_type": "code",
   "execution_count": 11,
   "id": "4e15ba23",
   "metadata": {},
   "outputs": [
    {
     "name": "stdout",
     "output_type": "stream",
     "text": [
      "11\n"
     ]
    }
   ],
   "source": [
    "def Sumx(a,b):\n",
    "    print(a+b)\n",
    "if __name__==\"__main__\":\n",
    "    Sumx(5,6)"
   ]
  },
  {
   "cell_type": "code",
   "execution_count": 3,
   "id": "dd35bee4",
   "metadata": {},
   "outputs": [],
   "source": [
    "def shortest_substring(s, word):\n",
    "    char_count = {}\n",
    "    for char in word:\n",
    "        if char not in char_count:\n",
    "            char_count[char] = 1\n",
    "        else:\n",
    "            char_count[char] += 1\n",
    "\n",
    "    start = 0\n",
    "    end = 0\n",
    "    min_length = float('inf')\n",
    "    min_start = 0\n",
    "\n",
    "    count = len(char_count)\n",
    "    while end < len(s):\n",
    "        if s[end] in char_count:\n",
    "            char_count[s[end]] -= 1\n",
    "            if char_count[s[end]] == 0:\n",
    "                count -= 1\n",
    "\n",
    "        while count == 0:\n",
    "            if end - start + 1 < min_length:\n",
    "                min_length = end - start + 1\n",
    "                min_start = start\n",
    "\n",
    "            if s[start] in char_count:\n",
    "                char_count[s[start]] += 1\n",
    "                if char_count[s[start]] > 0:\n",
    "                    count += 1\n",
    "\n",
    "            start += 1\n",
    "\n",
    "        end += 1\n",
    "\n",
    "    return s[min_start:min_start + min_length] if min_length != float('inf') else ''\n",
    "if __name__==\"__main__\":\n",
    "    shortest_substring(\"My Name is Fran\",\"rim\")\n"
   ]
  },
  {
   "cell_type": "code",
   "execution_count": null,
   "id": "a6f86521",
   "metadata": {},
   "outputs": [],
   "source": []
  }
 ],
 "metadata": {
  "kernelspec": {
   "display_name": "Python 3 (ipykernel)",
   "language": "python",
   "name": "python3"
  },
  "language_info": {
   "codemirror_mode": {
    "name": "ipython",
    "version": 3
   },
   "file_extension": ".py",
   "mimetype": "text/x-python",
   "name": "python",
   "nbconvert_exporter": "python",
   "pygments_lexer": "ipython3",
   "version": "3.10.6"
  }
 },
 "nbformat": 4,
 "nbformat_minor": 5
}
