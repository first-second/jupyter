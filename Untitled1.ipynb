{
 "cells": [
  {
   "cell_type": "code",
   "execution_count": 1,
   "id": "7349c084",
   "metadata": {},
   "outputs": [],
   "source": [
    "#Linear search"
   ]
  },
  {
   "cell_type": "code",
   "execution_count": 4,
   "id": "50eea8b5",
   "metadata": {},
   "outputs": [
    {
     "data": {
      "text/plain": [
       "False"
      ]
     },
     "execution_count": 4,
     "metadata": {},
     "output_type": "execute_result"
    }
   ],
   "source": [
    "def Linear_search(values,num):\n",
    "    for i in values:\n",
    "        if i==num:\n",
    "            return True\n",
    "    return False\n",
    "values=[3,5,1,10,6,15,64,10,9]\n",
    "Linear_search(values,100)"
   ]
  },
  {
   "cell_type": "code",
   "execution_count": null,
   "id": "2a7aa529",
   "metadata": {},
   "outputs": [],
   "source": [
    "#binary search"
   ]
  },
  {
   "cell_type": "code",
   "execution_count": 2,
   "id": "06a29504",
   "metadata": {},
   "outputs": [
    {
     "data": {
      "text/plain": [
       "2"
      ]
     },
     "execution_count": 2,
     "metadata": {},
     "output_type": "execute_result"
    }
   ],
   "source": [
    "def Binary(values,left,right,num):\n",
    "    mid=left+(right-1)//2\n",
    "    if values[mid] == num:\n",
    "        return mid\n",
    "    if values[mid] > num:\n",
    "        return Binary(values,left,mid,num)\n",
    "    else:\n",
    "        return Binary(values,mid,right,num)\n",
    "values=[3,5,1,10,6,15,64,10,9]\n",
    "values.sort()\n",
    "Binary(values,0,len(values),5)"
   ]
  },
  {
   "cell_type": "code",
   "execution_count": null,
   "id": "c0b24495",
   "metadata": {},
   "outputs": [],
   "source": []
  }
 ],
 "metadata": {
  "kernelspec": {
   "display_name": "Python 3 (ipykernel)",
   "language": "python",
   "name": "python3"
  },
  "language_info": {
   "codemirror_mode": {
    "name": "ipython",
    "version": 3
   },
   "file_extension": ".py",
   "mimetype": "text/x-python",
   "name": "python",
   "nbconvert_exporter": "python",
   "pygments_lexer": "ipython3",
   "version": "3.10.6"
  }
 },
 "nbformat": 4,
 "nbformat_minor": 5
}
