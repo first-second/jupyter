{
 "cells": [
  {
   "cell_type": "code",
   "execution_count": 12,
   "id": "542b8a58",
   "metadata": {},
   "outputs": [
    {
     "name": "stdout",
     "output_type": "stream",
     "text": [
      "mon\n",
      "tue\n",
      "wed\n",
      "-----------\n",
      "sun\n",
      "mon\n",
      "tue\n",
      "wed\n",
      "-----------\n",
      "sun\n",
      "mon\n",
      "tue\n",
      "wed\n",
      "thur\n"
     ]
    }
   ],
   "source": [
    "#linkedList\n",
    "class Node:\n",
    "    def __init__(self,dataval):\n",
    "        self.dataval=dataval\n",
    "        self.nextval=None\n",
    "class Linkedlist:\n",
    "    def __init__(self):\n",
    "        self.headNode=None\n",
    "    def PrintList(self):\n",
    "        printval=self.headNode\n",
    "        while printval:\n",
    "            print(printval.dataval)\n",
    "            printval=printval.nextval\n",
    "    def atbegin(self,newval):\n",
    "        newNode=Node(newval)\n",
    "        newNode.nextval=self.headNode\n",
    "        self.headNode=newNode\n",
    "    def atlast(self,newval):\n",
    "        newNode=Node(newval)\n",
    "        if self.headNode==None:\n",
    "            return newval\n",
    "        secondhead=self.headNode\n",
    "        while secondhead.nextval:\n",
    "            secondhead=secondhead.nextval\n",
    "        secondhead.nextval=newNode\n",
    "    def remove(self,val):\n",
    "        head=self.headNode\n",
    "        if head==None:\n",
    "            return\n",
    "        if head.dataval == val:\n",
    "            self.headNode=head.nextval\n",
    "            head=None\n",
    "            return\n",
    "        while head:\n",
    "            if head.dataval==val:\n",
    "                break\n",
    "            prev=head\n",
    "            head=head.nextval\n",
    "        \n",
    "                \n",
    "        \n",
    "        \n",
    "if __name__ == \"__main__\":\n",
    "    list1=Linkedlist()\n",
    "    list1.headNode=Node(\"mon\")\n",
    "    e2=Node(\"tue\")\n",
    "    e3=Node(\"wed\")\n",
    "    list1.headNode.nextval=e2\n",
    "    e2.nextval=e3\n",
    "    list1.PrintList()\n",
    "    print(\"-----------\")\n",
    "    list1.atbegin(\"sun\")\n",
    "    list1.PrintList()\n",
    "    print(\"-----------\")\n",
    "    list1.atlast(\"thur\")\n",
    "    list1.PrintList()\n",
    "    print(\"-----------\")\n",
    "    list1.remove(\"tue\")\n",
    "    list1.PrintList()"
   ]
  },
  {
   "cell_type": "code",
   "execution_count": null,
   "id": "8d89f141",
   "metadata": {},
   "outputs": [],
   "source": []
  }
 ],
 "metadata": {
  "kernelspec": {
   "display_name": "Python 3 (ipykernel)",
   "language": "python",
   "name": "python3"
  },
  "language_info": {
   "codemirror_mode": {
    "name": "ipython",
    "version": 3
   },
   "file_extension": ".py",
   "mimetype": "text/x-python",
   "name": "python",
   "nbconvert_exporter": "python",
   "pygments_lexer": "ipython3",
   "version": "3.10.6"
  }
 },
 "nbformat": 4,
 "nbformat_minor": 5
}
