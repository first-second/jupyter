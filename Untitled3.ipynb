{
 "cells": [
  {
   "cell_type": "markdown",
   "id": "4becae9e",
   "metadata": {},
   "source": [
    "Bubble Sort"
   ]
  },
  {
   "cell_type": "markdown",
   "id": "afb1958d",
   "metadata": {},
   "source": [
    "import time\n",
    "def Bubble(nums):\n",
    "    l=len(nums)\n",
    "    for i in range(l):\n",
    "        for j in range(i+1,l):\n",
    "            if nums[j] < nums[i]:\n",
    "                nums[i],nums[j]=nums[j],nums[i]\n",
    "                \n",
    "    return nums\n",
    "st=time.time()\n",
    "nums=[4,6,2,1,7,3,9]\n",
    "s=Bubble(nums)\n",
    "print(s)\n",
    "et=time.time()\n",
    "print(et-st)\n",
    "    "
   ]
  },
  {
   "cell_type": "markdown",
   "id": "6f1d592a",
   "metadata": {},
   "source": [
    "Selection Sort"
   ]
  },
  {
   "cell_type": "code",
   "execution_count": 26,
   "id": "8926827a",
   "metadata": {},
   "outputs": [
    {
     "name": "stdout",
     "output_type": "stream",
     "text": [
      "[1, 2, 3, 4, 6, 7, 9]\n",
      "0.0014526844024658203\n"
     ]
    }
   ],
   "source": [
    "import time\n",
    "def Selection(nums):\n",
    "    l=len(nums)\n",
    "    \n",
    "    for i in range(l):\n",
    "        mini=i\n",
    "        for j in range(i+1,l):\n",
    "            if nums[j] < nums[mini]:\n",
    "                mini=j\n",
    "        nums[i],nums[mini]=nums[mini],nums[i]\n",
    "    return nums\n",
    "st=time.time()\n",
    "nums=[4,6,2,1,7,3,9]\n",
    "s=Selection(nums)\n",
    "print(s)\n",
    "et=time.time()\n",
    "print(et-st)"
   ]
  },
  {
   "cell_type": "markdown",
   "id": "a6292e20",
   "metadata": {},
   "source": [
    "Insertion Sort"
   ]
  },
  {
   "cell_type": "code",
   "execution_count": 24,
   "id": "1e7554e8",
   "metadata": {},
   "outputs": [
    {
     "name": "stdout",
     "output_type": "stream",
     "text": [
      "[1, 2, 3, 4, 6, 7, 9]\n",
      "0.0009126663208007812\n"
     ]
    }
   ],
   "source": [
    "import time\n",
    "def Insertion(nums):\n",
    "    l=len(nums)\n",
    "    for i in range(1,l):\n",
    "        key=nums[i]\n",
    "        j=i-1\n",
    "        while j>=0 and key < nums[j]:\n",
    "            nums[j+1]=nums[j]\n",
    "            j=j-1\n",
    "        nums[j+1]=key\n",
    "            \n",
    "    return nums\n",
    "st=time.time()\n",
    "nums=[4,6,2,1,7,3,9]\n",
    "s=Insertion(nums)\n",
    "print(s)\n",
    "et=time.time()\n",
    "print(et-st)"
   ]
  },
  {
   "cell_type": "markdown",
   "id": "34e8ddb6",
   "metadata": {},
   "source": [
    "MergeSort"
   ]
  },
  {
   "cell_type": "code",
   "execution_count": 1,
   "id": "9345e424",
   "metadata": {},
   "outputs": [
    {
     "name": "stdout",
     "output_type": "stream",
     "text": [
      "[1, 2, 3, 4, 6, 7, 9]\n"
     ]
    }
   ],
   "source": [
    "def Merge(nums):\n",
    "    if len(nums) >1:\n",
    "        mid=len(nums)//2\n",
    "        L=nums[:mid]\n",
    "        R=nums[mid:]\n",
    "        Merge(L)\n",
    "        Merge(R)\n",
    "        \n",
    "        i=j=k=0\n",
    "        while i < len(L) and j<len(R):\n",
    "            if L[i]<=R[j]:\n",
    "                nums[k]=L[i]\n",
    "                i+=1\n",
    "            else:\n",
    "                nums[k]=R[j]\n",
    "                j+=1\n",
    "            k+=1\n",
    "        while i < len(L):\n",
    "            nums[k]=L[i]\n",
    "            i+=1\n",
    "            k+=1\n",
    "        while j < len(R):\n",
    "            nums[k]=R[j]\n",
    "            j+=1\n",
    "            k+=1\n",
    "    return nums\n",
    "nums=[4,6,2,1,7,3,9]\n",
    "s=Merge(nums)\n",
    "print(s)"
   ]
  },
  {
   "cell_type": "markdown",
   "id": "9df9e656",
   "metadata": {},
   "source": [
    "Binary search"
   ]
  },
  {
   "cell_type": "code",
   "execution_count": 4,
   "id": "b5d6b895",
   "metadata": {},
   "outputs": [
    {
     "name": "stdout",
     "output_type": "stream",
     "text": [
      "list after sorting is [1, 2, 3, 4, 6, 7, 9]\n",
      "4 found at 4\n"
     ]
    }
   ],
   "source": [
    "def BinarySearch(nums,low,high,val):\n",
    "    if len(nums)>1:\n",
    "        mid=(low+high)//2\n",
    "        if nums[mid]==val:\n",
    "            return f\"{val} found at {mid+1}\"\n",
    "        elif val>num[mid]:\n",
    "            BinarySearch(nums,mid,len(nums)-1,val)\n",
    "        else:\n",
    "            BinarySearch(nums,0,mid,val)\n",
    "    return \"not found\"\n",
    "        \n",
    "nums=[4,6,2,1,7,3,9]\n",
    "nums.sort()\n",
    "print(f\"list after sorting is {nums}\")\n",
    "val=4\n",
    "s=BinarySearch(nums,0,len(nums)-1,val)\n",
    "print(s)"
   ]
  },
  {
   "cell_type": "code",
   "execution_count": null,
   "id": "d16e3641",
   "metadata": {},
   "outputs": [],
   "source": []
  }
 ],
 "metadata": {
  "kernelspec": {
   "display_name": "Python 3 (ipykernel)",
   "language": "python",
   "name": "python3"
  },
  "language_info": {
   "codemirror_mode": {
    "name": "ipython",
    "version": 3
   },
   "file_extension": ".py",
   "mimetype": "text/x-python",
   "name": "python",
   "nbconvert_exporter": "python",
   "pygments_lexer": "ipython3",
   "version": "3.10.6"
  }
 },
 "nbformat": 4,
 "nbformat_minor": 5
}
