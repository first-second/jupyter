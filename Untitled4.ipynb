{
 "cells": [
  {
   "cell_type": "code",
   "execution_count": 8,
   "id": "3e56f2bb",
   "metadata": {},
   "outputs": [
    {
     "name": "stdout",
     "output_type": "stream",
     "text": [
      "song_1\n",
      "song_2\n",
      "song_3\n",
      "----------------------\n",
      "song_premium\n",
      "song_1\n",
      "song_2\n",
      "song_3\n",
      "----------------------\n",
      "song_premium\n",
      "song_1\n",
      "song_2\n",
      "song_3\n",
      "song_old\n",
      "----------------------\n",
      "song_premium\n",
      "song_1\n",
      "song_add\n",
      "song_2\n",
      "song_3\n",
      "song_old\n"
     ]
    }
   ],
   "source": [
    "class Node:\n",
    "    def __init__(self,data):\n",
    "        self.data=data\n",
    "        self.next=None\n",
    "class LinkedList:\n",
    "    def __init__(self):\n",
    "        self.headval=None\n",
    "    def printlist(self):\n",
    "        printsong=self.headval\n",
    "        while(printsong):\n",
    "            print(printsong.data)\n",
    "            printsong=printsong.next\n",
    "    def atbegin(self,song_premium):\n",
    "        new_node=Node(song_premium)\n",
    "        new_node.next=self.headval\n",
    "        self.headval=new_node\n",
    "    def atend(self,song_old):\n",
    "        new_node=Node(song_old)\n",
    "        headval=self.headval\n",
    "        while headval:\n",
    "            last=headval\n",
    "            headval=headval.next\n",
    "        last.next=new_node\n",
    "    def inbetween(self,found,song_add):\n",
    "        new_node=Node(\"song_add\")\n",
    "        headval=self.headval\n",
    "        while headval:\n",
    "            connected=headval.next\n",
    "            if headval.data==found:\n",
    "                break\n",
    "            headval=connected\n",
    "        headval.next=new_node\n",
    "        new_node.next=connected\n",
    "    \n",
    "if __name__=='__main__':\n",
    "    songs=LinkedList()\n",
    "    songs.headval=Node(\"song_1\")\n",
    "    node2=Node(\"song_2\")\n",
    "    node3=Node(\"song_3\")\n",
    "    songs.headval.next=node2\n",
    "    node2.next=node3\n",
    "    songs.printlist()\n",
    "    print(\"----------------------\")\n",
    "    songs.atbegin(\"song_premium\")\n",
    "    songs.printlist()\n",
    "    print(\"----------------------\")\n",
    "    songs.atend(\"song_old\")\n",
    "    songs.printlist()\n",
    "    print(\"----------------------\")\n",
    "    songs.inbetween(\"song_1\",\"song_add\")\n",
    "    songs.printlist()"
   ]
  },
  {
   "cell_type": "code",
   "execution_count": 1,
   "id": "d550f56a",
   "metadata": {},
   "outputs": [
    {
     "name": "stdout",
     "output_type": "stream",
     "text": [
      "<__main__.Task object at 0x7f90483420e0>\n",
      "<__main__.Task object at 0x7f9048343340>\n",
      "<__main__.Task object at 0x7f90483420e0>\n",
      "Processing task: Process urgent task\n",
      "Processing task: Process medium-priority task\n",
      "Processing task: Process high-priority task\n"
     ]
    }
   ],
   "source": [
    "import heapq\n",
    "\n",
    "# Define a class to represent a task\n",
    "class Task:\n",
    "    def __init__(self, priority, description):\n",
    "        self.priority = priority\n",
    "        self.description = description\n",
    "    \n",
    "    def __lt__(self, other):\n",
    "        # Define the comparison logic for tasks based on priority\n",
    "        return self.priority < other.priority\n",
    "\n",
    "# Create an empty heap\n",
    "task_heap = []\n",
    "\n",
    "# Add tasks to the heap\n",
    "task1 = Task(3, \"Process high-priority task\")\n",
    "task2 = Task(1, \"Process urgent task\")\n",
    "task3 = Task(2, \"Process medium-priority task\")\n",
    "\n",
    "heapq.heappush(task_heap, task1)\n",
    "heapq.heappush(task_heap, task2)\n",
    "heapq.heappush(task_heap, task3)\n",
    "\n",
    "# Process tasks in order of priority\n",
    "while task_heap:\n",
    "    task = heapq.heappop(task_heap)\n",
    "    print(\"Processing task:\", task.description)"
   ]
  },
  {
   "cell_type": "code",
   "execution_count": 3,
   "id": "a1f179aa",
   "metadata": {},
   "outputs": [
    {
     "name": "stdout",
     "output_type": "stream",
     "text": [
      "processing first\n",
      "processing second\n",
      "processing third\n"
     ]
    }
   ],
   "source": [
    "import heapq\n",
    "class Tasks:\n",
    "    def __init__(self,priority,description):\n",
    "        self.priority=priority\n",
    "        self.description=description\n",
    "    def __lt__(self,other):\n",
    "        return self.priority < other.priority\n",
    "tasks_heap=[]\n",
    "\n",
    "Task1=Tasks(2,\"second\")\n",
    "Task2=Tasks(1,\"first\")\n",
    "Task3=Tasks(3,\"third\")\n",
    "heapq.heappush(tasks_heap,Task1)\n",
    "heapq.heappush(tasks_heap,Task2)\n",
    "heapq.heappush(tasks_heap,Task3)\n",
    "\n",
    "while tasks_heap:\n",
    "    task=heapq.heappop(tasks_heap)\n",
    "    print(\"processing\",task.description)"
   ]
  },
  {
   "cell_type": "code",
   "execution_count": 36,
   "id": "c3317e97",
   "metadata": {},
   "outputs": [
    {
     "name": "stdout",
     "output_type": "stream",
     "text": [
      "[1, 5]\n",
      "Not Found\n"
     ]
    }
   ],
   "source": [
    "def BinarySearch(low,high,data,search):\n",
    "    if high>=low:\n",
    "        mid = (low+high)//2\n",
    "        if search == data[mid]:\n",
    "            print(f\"{search} found at {mid}\")\n",
    "        elif search > data[mid]:\n",
    "            BinarySearchTree(mid+1,high,data,search)\n",
    "        else:\n",
    "            BinarySearchTree(low,mid-1,data,search)\n",
    "    else:\n",
    "        print(\"Not Found\")\n",
    "        \n",
    "data=[5,1]\n",
    "data.sort()\n",
    "print(data)\n",
    "BinarySearchTree(0,len(data)-1,data,7)"
   ]
  },
  {
   "cell_type": "code",
   "execution_count": null,
   "id": "f8e5225d",
   "metadata": {},
   "outputs": [],
   "source": []
  },
  {
   "cell_type": "code",
   "execution_count": 2,
   "id": "3cd32a58",
   "metadata": {},
   "outputs": [
    {
     "name": "stdout",
     "output_type": "stream",
     "text": [
      "[1, 14, 10, 35, 19, 31, 42, 44]\n",
      "5\n",
      "1 14 10 35 19 42 31 44 "
     ]
    }
   ],
   "source": [
    "class Node:\n",
    "    def __init__(self,data):\n",
    "        self.data=data\n",
    "        self.left=None\n",
    "        self.right=None\n",
    "    def insert(self,newval):\n",
    "        if self.data:\n",
    "            if newval < self.data:\n",
    "                if self.left:\n",
    "                    self.left.insert(newval)\n",
    "                else:\n",
    "                    self.left=Node(newval)\n",
    "            elif newval > self.data:\n",
    "                if self.right:\n",
    "                    self.right.insert(newval)\n",
    "                else:\n",
    "                    self.right=Node(newval)\n",
    "        else:\n",
    "            self.data=data\n",
    "    def preOrder(self,root):\n",
    "        res=[]\n",
    "        if root:\n",
    "            res.append(root.data)\n",
    "            res=res+self.preOrder(root.left)\n",
    "            res=res+self.preOrder(root.right)\n",
    "        return res\n",
    "    def printLevelOrder(self,root):\n",
    "        h=self.height(root)\n",
    "        for i in range(1,h+1):\n",
    "            self.printCurrentNode(root,i)\n",
    "            \n",
    "    def printCurrentNode(self,root,level):\n",
    "        if root is None:\n",
    "            return\n",
    "        if level == 1:\n",
    "            print(root.data,end=\" \")\n",
    "        elif level > 1:\n",
    "            self.printCurrentNode(root.left,level-1)\n",
    "            self.printCurrentNode(root.right,level-1)\n",
    "    def height(self,root):\n",
    "        if root is None:\n",
    "            return 0\n",
    "        else:\n",
    "            lheight=self.height(root.left)\n",
    "            rheight=self.height(root.right)\n",
    "            \n",
    "            if lheight > rheight:\n",
    "                return lheight+1\n",
    "            else:\n",
    "                return rheight+1\n",
    "\n",
    "if __name__==\"__main__\":\n",
    "    tree=Node(1)\n",
    "    tree.insert(14)\n",
    "    tree.insert(35)\n",
    "    tree.insert(10)\n",
    "    tree.insert(19)\n",
    "    tree.insert(31)\n",
    "    tree.insert(42)\n",
    "    tree.insert(44)\n",
    "    print(tree.preOrder(tree))\n",
    "    print(tree.height(tree))\n",
    "    tree.printLevelOrder(tree)"
   ]
  },
  {
   "cell_type": "code",
   "execution_count": null,
   "id": "c081d4a6",
   "metadata": {},
   "outputs": [],
   "source": []
  }
 ],
 "metadata": {
  "kernelspec": {
   "display_name": "Python 3 (ipykernel)",
   "language": "python",
   "name": "python3"
  },
  "language_info": {
   "codemirror_mode": {
    "name": "ipython",
    "version": 3
   },
   "file_extension": ".py",
   "mimetype": "text/x-python",
   "name": "python",
   "nbconvert_exporter": "python",
   "pygments_lexer": "ipython3",
   "version": "3.10.6"
  }
 },
 "nbformat": 4,
 "nbformat_minor": 5
}
