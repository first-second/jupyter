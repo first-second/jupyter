{
 "cells": [
  {
   "cell_type": "code",
   "execution_count": 4,
   "id": "8f84e8e6",
   "metadata": {},
   "outputs": [
    {
     "name": "stdout",
     "output_type": "stream",
     "text": [
      "----------------\n",
      "['ACT1', 'START1', 'RESUME1', 'PREMPT1', 'END'] 4\n",
      "------------------------------\n",
      "[] 4\n",
      "------------------------------\n",
      "[['ACT', 'START', 'RESUME', 'PREMPT', 'END'], []]\n"
     ]
    }
   ],
   "source": [
    "data = {\"Task\": [\"ACT\",\"START\",\"RESUME\",\"PREMPT\",\"END\",\"ACT1\",\"START1\",\"RESUME1\",\"PREMPT1\",\"END\"]}\n",
    "\n",
    "#print(data[\"Task\"].count(\"END\"))\n",
    "#print(data[\"Task\"].index(\"END\"))\n",
    "\n",
    "#print(data[\"Task\"][:data[\"Task\"].index(\"END\")+1])\n",
    "print(\"----------------\")\n",
    "l = data[\"Task\"].count(\"END\")\n",
    "s=-1\n",
    "x=[]\n",
    "for i in range(l):\n",
    "    x.append(data[\"Task\"][s+1:data[\"Task\"].index(\"END\")+1])\n",
    "    #print(data[\"Task\"][s+1:data[\"Task\"].index(\"END\")+1])\n",
    "    s=data[\"Task\"].index(\"END\")\n",
    "    data[\"Task\"]=data[\"Task\"][s+1:]\n",
    "    print(data[\"Task\"] , s)\n",
    "    print(\"------------------------------\")\n",
    "print(x)"
   ]
  },
  {
   "cell_type": "code",
   "execution_count": 28,
   "id": "0a9e3a82",
   "metadata": {},
   "outputs": [
    {
     "name": "stdout",
     "output_type": "stream",
     "text": [
      "['ACT', 'START', 'RESUME', 'PREMPT', 'END']\n",
      "['ACT1', 'START1', 'RESUME1', 'PREMPT1', 'END']\n",
      "['ACT2', 'START2', 'RESUME2', 'PREMPT2', 'END']\n"
     ]
    }
   ],
   "source": [
    "import pandas as pd\n",
    "data = {\"Task\": [\"ACT\",\"START\",\"RESUME\",\"PREMPT\",\"END\",\"ACT1\",\"START1\",\"RESUME1\",\"PREMPT1\",\"END\",\"ACT2\",\"START2\",\"RESUME2\",\"PREMPT2\",\"END\"]}\n",
    "\n",
    "df = pd.DataFrame(data)\n",
    "indexes = df.index[df[\"Task\"] == \"END\"]\n",
    "k=-1\n",
    "for i in range(data[\"Task\"].count(\"END\")):\n",
    "    print(data[\"Task\"][k+1:indexes[i]+1])\n",
    "    k=indexes[i]\n"
   ]
  },
  {
   "cell_type": "code",
   "execution_count": 10,
   "id": "74e87183",
   "metadata": {},
   "outputs": [
    {
     "name": "stdout",
     "output_type": "stream",
     "text": [
      "[['ACT', 'START', 'RESUME', 'PREMPT', 'END']]\n",
      "[['ACT', 'START', 'RESUME', 'PREMPT', 'END'], ['ACT', 'START', 'RESUME', 'PREMPT', 'END']]\n"
     ]
    }
   ],
   "source": [
    "data = {\"Task\": [\"ACT\",\"START\",\"RESUME\",\"PREMPT\",\"END\",\"ACT1\",\"START1\",\"RESUME1\",\"PREMPT1\",\"END\"]}\n",
    "l =data[\"Task\"].count(\"END\")\n",
    "s=0\n",
    "temp=[]\n",
    "for i in range(l):\n",
    "\ttemp.append(data[\"Task\"][s:data[\"Task\"].index(\"END\")+1])\n",
    "\tprint(temp)"
   ]
  },
  {
   "cell_type": "code",
   "execution_count": 13,
   "id": "5bf9d99f",
   "metadata": {},
   "outputs": [
    {
     "name": "stdout",
     "output_type": "stream",
     "text": [
      "[['ACT', 'START', 'RESUME', 'PREMPT', 'END']]\n",
      "4 ['ACT1', 'START1', 'RESUME1', 'PREMPT1', 'END', 'ACT2', 'START2', 'RESUME2', 'PREMPT2', 'END']\n",
      "[['ACT', 'START', 'RESUME', 'PREMPT', 'END'], ['ACT1', 'START1', 'RESUME1', 'PREMPT1', 'END']]\n",
      "4 ['ACT2', 'START2', 'RESUME2', 'PREMPT2', 'END']\n",
      "[['ACT', 'START', 'RESUME', 'PREMPT', 'END'], ['ACT1', 'START1', 'RESUME1', 'PREMPT1', 'END'], ['ACT2', 'START2', 'RESUME2', 'PREMPT2', 'END']]\n"
     ]
    },
    {
     "ename": "ValueError",
     "evalue": "'END' is not in list",
     "output_type": "error",
     "traceback": [
      "\u001b[1;31m---------------------------------------------------------------------------\u001b[0m",
      "\u001b[1;31mValueError\u001b[0m                                Traceback (most recent call last)",
      "Cell \u001b[1;32mIn[13], line 10\u001b[0m\n\u001b[0;32m      8\u001b[0m \t\u001b[38;5;66;03m#print(data[\"Task\"][s+1:data[\"Task\"].index(\"END\")+1])\u001b[39;00m\n\u001b[0;32m      9\u001b[0m \tdata[\u001b[38;5;124m\"\u001b[39m\u001b[38;5;124mTask\u001b[39m\u001b[38;5;124m\"\u001b[39m]\u001b[38;5;241m=\u001b[39mdata[\u001b[38;5;124m\"\u001b[39m\u001b[38;5;124mTask\u001b[39m\u001b[38;5;124m\"\u001b[39m][data[\u001b[38;5;124m\"\u001b[39m\u001b[38;5;124mTask\u001b[39m\u001b[38;5;124m\"\u001b[39m]\u001b[38;5;241m.\u001b[39mindex(\u001b[38;5;124m\"\u001b[39m\u001b[38;5;124mEND\u001b[39m\u001b[38;5;124m\"\u001b[39m)\u001b[38;5;241m+\u001b[39m\u001b[38;5;241m1\u001b[39m:]\n\u001b[1;32m---> 10\u001b[0m \t\u001b[38;5;28mprint\u001b[39m(\u001b[43mdata\u001b[49m\u001b[43m[\u001b[49m\u001b[38;5;124;43m\"\u001b[39;49m\u001b[38;5;124;43mTask\u001b[39;49m\u001b[38;5;124;43m\"\u001b[39;49m\u001b[43m]\u001b[49m\u001b[38;5;241;43m.\u001b[39;49m\u001b[43mindex\u001b[49m\u001b[43m(\u001b[49m\u001b[38;5;124;43m\"\u001b[39;49m\u001b[38;5;124;43mEND\u001b[39;49m\u001b[38;5;124;43m\"\u001b[39;49m\u001b[43m)\u001b[49m , data[\u001b[38;5;124m\"\u001b[39m\u001b[38;5;124mTask\u001b[39m\u001b[38;5;124m\"\u001b[39m])\n\u001b[0;32m     11\u001b[0m \u001b[38;5;28mprint\u001b[39m(\u001b[38;5;124m\"\u001b[39m\u001b[38;5;124mok\u001b[39m\u001b[38;5;124m\"\u001b[39m)\n",
      "\u001b[1;31mValueError\u001b[0m: 'END' is not in list"
     ]
    }
   ],
   "source": [
    "data = {\"Task\": [\"ACT\",\"START\",\"RESUME\",\"PREMPT\",\"END\",\"ACT1\",\"START1\",\"RESUME1\",\"PREMPT1\",\"END\",\"ACT2\",\"START2\",\"RESUME2\",\"PREMPT2\",\"END\"]}\n",
    "l = data[\"Task\"].count(\"END\")\n",
    "s=0\n",
    "temp=[]\n",
    "for i in range(l):\n",
    "\ttemp.append(data[\"Task\"][s:data[\"Task\"].index(\"END\")+1])\n",
    "\tprint(temp)\n",
    "\t#print(data[\"Task\"][s+1:data[\"Task\"].index(\"END\")+1])\n",
    "\tdata[\"Task\"]=data[\"Task\"][data[\"Task\"].index(\"END\")+1:]\n",
    "\tprint(data[\"Task\"].index(\"END\") , data[\"Task\"])\n",
    "print(\"ok\")"
   ]
  },
  {
   "cell_type": "code",
   "execution_count": 17,
   "id": "6c0e03c4",
   "metadata": {},
   "outputs": [
    {
     "name": "stdout",
     "output_type": "stream",
     "text": [
      "[['ACT', 'START', 'RESUME', 'PREMPT', 'END'], ['ACT1', 'START1', 'RESUME1', 'PREMPT1', 'END'], ['ACT2', 'START2', 'RESUME2', 'PREMPT2', 'END']]\n"
     ]
    }
   ],
   "source": [
    "data = {\"Task\": [\"ACT\",\"START\",\"RESUME\",\"PREMPT\",\"END\",\"ACT1\",\"START1\",\"RESUME1\",\"PREMPT1\",\"END\",\"ACT2\",\"START2\",\"RESUME2\",\"PREMPT2\",\"END\"]}\n",
    "l = data[\"Task\"].count(\"END\")\n",
    "s=0\n",
    "temp=[]\n",
    "for i in range(l):\n",
    "\ttemp.append(data[\"Task\"][s:data[\"Task\"].index(\"END\")+1])\n",
    "\tif (i+1)!=l:\n",
    "\t    data[\"Task\"]=data[\"Task\"][data[\"Task\"].index(\"END\")+1:]\n",
    "print(temp)"
   ]
  },
  {
   "cell_type": "code",
   "execution_count": 29,
   "id": "1e06d9b1",
   "metadata": {},
   "outputs": [
    {
     "name": "stdout",
     "output_type": "stream",
     "text": [
      "{'name': []}\n"
     ]
    }
   ],
   "source": [
    "dic = {}\n",
    "dic[\"name\"]=[]\n",
    "print(dic)"
   ]
  },
  {
   "cell_type": "code",
   "execution_count": null,
   "id": "2902830a",
   "metadata": {},
   "outputs": [],
   "source": []
  }
 ],
 "metadata": {
  "kernelspec": {
   "display_name": "Python 3 (ipykernel)",
   "language": "python",
   "name": "python3"
  },
  "language_info": {
   "codemirror_mode": {
    "name": "ipython",
    "version": 3
   },
   "file_extension": ".py",
   "mimetype": "text/x-python",
   "name": "python",
   "nbconvert_exporter": "python",
   "pygments_lexer": "ipython3",
   "version": "3.10.11"
  }
 },
 "nbformat": 4,
 "nbformat_minor": 5
}
