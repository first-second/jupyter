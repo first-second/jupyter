{
 "cells": [
  {
   "cell_type": "code",
   "execution_count": 11,
   "id": "93314c96",
   "metadata": {},
   "outputs": [
    {
     "name": "stdout",
     "output_type": "stream",
     "text": [
      "4\n",
      "14\n",
      "24\n"
     ]
    },
    {
     "ename": "AttributeError",
     "evalue": "type object 'child' has no attribute '_b'",
     "output_type": "error",
     "traceback": [
      "\u001b[1;31m---------------------------------------------------------------------------\u001b[0m",
      "\u001b[1;31mAttributeError\u001b[0m                            Traceback (most recent call last)",
      "Cell \u001b[1;32mIn[11], line 19\u001b[0m\n\u001b[0;32m     17\u001b[0m obj \u001b[38;5;241m=\u001b[39m child()\n\u001b[0;32m     18\u001b[0m obj\u001b[38;5;241m.\u001b[39mparent_func()\n\u001b[1;32m---> 19\u001b[0m \u001b[38;5;28mprint\u001b[39m(\u001b[43mchild\u001b[49m\u001b[38;5;241;43m.\u001b[39;49m\u001b[43m_b\u001b[49m)\n",
      "\u001b[1;31mAttributeError\u001b[0m: type object 'child' has no attribute '_b'"
     ]
    }
   ],
   "source": [
    "class parent:\n",
    "    def __init__(self):\n",
    "        self.a = 4\n",
    "        self._b = 14\n",
    "        self.__c = 24\n",
    "    def parent_func(self):\n",
    "        print(self.a)\n",
    "        print(self._b)\n",
    "        print(self.__c)\n",
    "class child(parent):\n",
    "    def child_func(self):\n",
    "        print(self.a)\n",
    "        print(self._b)\n",
    "        print(self.__c)\n",
    "\n",
    "if __name__ == \"__main__\":\n",
    "    obj = child()\n",
    "    obj.parent_func()\n",
    "    print(child._b)"
   ]
  },
  {
   "cell_type": "code",
   "execution_count": null,
   "id": "9e154c1f",
   "metadata": {},
   "outputs": [],
   "source": []
  }
 ],
 "metadata": {
  "kernelspec": {
   "display_name": "Python 3 (ipykernel)",
   "language": "python",
   "name": "python3"
  },
  "language_info": {
   "codemirror_mode": {
    "name": "ipython",
    "version": 3
   },
   "file_extension": ".py",
   "mimetype": "text/x-python",
   "name": "python",
   "nbconvert_exporter": "python",
   "pygments_lexer": "ipython3",
   "version": "3.10.11"
  }
 },
 "nbformat": 4,
 "nbformat_minor": 5
}
