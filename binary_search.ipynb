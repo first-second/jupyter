{
 "cells": [
  {
   "cell_type": "code",
   "execution_count": 23,
   "id": "1eb89c91",
   "metadata": {},
   "outputs": [
    {
     "name": "stdout",
     "output_type": "stream",
     "text": [
      "[1, 2, 3, 4, 5, 6, 8, 9]\n",
      "not found\n"
     ]
    }
   ],
   "source": [
    "def Binarysearch(arr,low,high,val):\n",
    "    if(low<=high):\n",
    "        mid=low+(high-low)//2\n",
    "        if(arr[mid]==val):\n",
    "            return mid\n",
    "        elif(arr[mid]>val):\n",
    "            return Binarysearch(arr,low,mid-1,val)\n",
    "        else:\n",
    "            return Binarysearch(arr,mid+1,high,val)\n",
    "    else:\n",
    "        return 0\n",
    "list1=[5,6,9,8,4,2,3,1]\n",
    "list1.sort()\n",
    "n=len(list1)\n",
    "val=12\n",
    "print(list1)\n",
    "val=Binarysearch(list1,0,n-1,val)\n",
    "if(val!=0):\n",
    "    print(val)\n",
    "else:\n",
    "    print(\"not found\")"
   ]
  },
  {
   "cell_type": "code",
   "execution_count": 29,
   "id": "cd3453d9",
   "metadata": {},
   "outputs": [
    {
     "name": "stdout",
     "output_type": "stream",
     "text": [
      "mon\n",
      "tue\n",
      "wed\n",
      "------------add val\n",
      "mon\n",
      "tue\n",
      "wed\n",
      "thur\n",
      "------------at start\n",
      "sun\n",
      "mon\n",
      "tue\n",
      "wed\n",
      "thur\n",
      "------------at end\n",
      "sun\n",
      "mon\n",
      "tue\n",
      "wed\n",
      "thur\n",
      "sat\n",
      "------------remove\n",
      "sun\n",
      "mon\n",
      "tue\n",
      "wed\n",
      "thur\n",
      "sat\n"
     ]
    }
   ],
   "source": [
    "#linked list\n",
    "class Node:\n",
    "    def __init__(self,data):\n",
    "        self.data=data\n",
    "        self.next=None\n",
    "class Linkedlist:\n",
    "    def __init__(self):\n",
    "        self.head=None\n",
    "    def printlist(self):\n",
    "        printval=self.head\n",
    "        while printval:\n",
    "            print(printval.data)\n",
    "            printval=printval.next\n",
    "    def addval(self,addr,val):\n",
    "        newnode=Node(val)\n",
    "        newnode.next=addr.next\n",
    "        addr.next=newnode\n",
    "    def atstart(self,val):\n",
    "        newnode=Node(val)\n",
    "        newnode.next=self.head\n",
    "        self.head=newnode\n",
    "    def atend(self,val):\n",
    "        newnode=Node(val)\n",
    "        headval=self.head\n",
    "        while headval.next:\n",
    "            headval=headval.next\n",
    "        headval.next=newnode\n",
    "    def remove(self,val):\n",
    "        headval=self.head\n",
    "        if headval==None:\n",
    "            return\n",
    "        if headval.data==val:\n",
    "            print(\"found at first\")\n",
    "            self.head=headval.next\n",
    "            headval=None\n",
    "            return\n",
    "        while headval is not None:\n",
    "            if headval.data==val:\n",
    "                break\n",
    "            prev=headval\n",
    "            headval=headval.next\n",
    "        prev.next=headval.next\n",
    "        #print(\"--\",prev.next.data,\"--\",headval.next.data)\n",
    "        headval=None\n",
    "                    \n",
    "            \n",
    "if __name__=='__main__':\n",
    "    list1=Linkedlist()\n",
    "    list1.head=Node(\"mon\")\n",
    "    s2=Node(\"tue\")\n",
    "    s3=Node(\"wed\")\n",
    "    list1.head.next=s2\n",
    "    s2.next=s3\n",
    "    list1.printlist()\n",
    "    print(\"------------add val\")\n",
    "    list1.addval(s2.next,\"thur\")\n",
    "    list1.printlist()\n",
    "    print(\"------------at start\")\n",
    "    list1.atstart(\"sun\")\n",
    "    list1.printlist()\n",
    "    print(\"------------at end\")\n",
    "    list1.atend(\"sat\")\n",
    "    list1.printlist()\n",
    "    print(\"------------remove\")\n",
    "    list1.remove(\"wed\")\n",
    "    list1.printlist()    \n",
    "    \n",
    "    \n",
    "    \n",
    "    "
   ]
  },
  {
   "cell_type": "code",
   "execution_count": 4,
   "id": "6bfe87b7",
   "metadata": {},
   "outputs": [
    {
     "name": "stdout",
     "output_type": "stream",
     "text": [
      "here\n"
     ]
    }
   ],
   "source": [
    "print(\"here\")"
   ]
  },
  {
   "cell_type": "code",
   "execution_count": 37,
   "id": "15b8d999",
   "metadata": {},
   "outputs": [
    {
     "name": "stdout",
     "output_type": "stream",
     "text": [
      "[1, 2, 4, 5, 6, 7, 8, 9]\n"
     ]
    }
   ],
   "source": [
    "#BinarySearchTree\n",
    "class BinarySearchTree:\n",
    "    def __init__(self,data):\n",
    "        self.data=data\n",
    "        self.right=None\n",
    "        self.left=None        \n",
    "    def addchild(self,data):\n",
    "        if data==self.data:\n",
    "            return\n",
    "        if data < self.data:\n",
    "            if self.left:\n",
    "                self.left.addchild(data)\n",
    "            else:\n",
    "                self.left=BinarySearchTree(data)\n",
    "        else:\n",
    "            if self.right:\n",
    "                self.right.addchild(data)\n",
    "            else:\n",
    "                self.right=BinarySearchTree(data)\n",
    "    def inorder(self):\n",
    "        elements=[]\n",
    "        if self.left:\n",
    "            elements+=self.left.inorder()\n",
    "        elements.append(self.data)\n",
    "        if self.right:\n",
    "            elements+=self.right.inorder()\n",
    "        return elements\n",
    "def buildTree(elements):\n",
    "    root=BinarySearchTree(elements[0])\n",
    "    for i in range(1,len(elements)):\n",
    "        root.addchild(elements[i])\n",
    "    return root\n",
    "if __name__=='__main__':\n",
    "    list1=[1,6,2,4,5,7,8,9]\n",
    "    ans=buildTree(list1)\n",
    "    val=ans.inorder()\n",
    "    print(val)\n",
    "    \n",
    "    "
   ]
  },
  {
   "cell_type": "code",
   "execution_count": null,
   "id": "6ece451b",
   "metadata": {},
   "outputs": [],
   "source": []
  }
 ],
 "metadata": {
  "kernelspec": {
   "display_name": "Python 3 (ipykernel)",
   "language": "python",
   "name": "python3"
  },
  "language_info": {
   "codemirror_mode": {
    "name": "ipython",
    "version": 3
   },
   "file_extension": ".py",
   "mimetype": "text/x-python",
   "name": "python",
   "nbconvert_exporter": "python",
   "pygments_lexer": "ipython3",
   "version": "3.10.6"
  }
 },
 "nbformat": 4,
 "nbformat_minor": 5
}
