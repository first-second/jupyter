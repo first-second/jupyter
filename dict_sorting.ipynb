{
 "cells": [
  {
   "cell_type": "code",
   "execution_count": 1,
   "id": "05f1755f",
   "metadata": {},
   "outputs": [
    {
     "name": "stdout",
     "output_type": "stream",
     "text": [
      "dict_keys([3, 2, 4, 1])\n"
     ]
    }
   ],
   "source": [
    "people = {3: \"Jim\", 2: \"Jack\", 4: \"Jane\", 1: \"Jill\"}\n",
    "print(people.keys())"
   ]
  },
  {
   "cell_type": "code",
   "execution_count": 2,
   "id": "53f4d184",
   "metadata": {},
   "outputs": [
    {
     "data": {
      "text/plain": [
       "{2: 'Jack', 4: 'Jane', 1: 'Jill', 3: 'Jim'}"
      ]
     },
     "execution_count": 2,
     "metadata": {},
     "output_type": "execute_result"
    }
   ],
   "source": [
    "l=people.keys()\n",
    "l2=people.values()\n",
    "dict(sorted(people.items(), key=lambda item: item[1]))"
   ]
  },
  {
   "cell_type": "code",
   "execution_count": 5,
   "id": "25924dff",
   "metadata": {},
   "outputs": [
    {
     "name": "stdout",
     "output_type": "stream",
     "text": [
      "[(1, 'Jill'), (2, 'Jack'), (3, 'Jim'), (4, 'Jane'), (6, 'yes')]\n"
     ]
    }
   ],
   "source": [
    "from collections import OrderedDict\n",
    "people = {3: \"Jim\", 2: \"Jack\", 4: \"Jane\", 1: \"Jill\"}\n",
    "new ={6:\"yes\"}\n",
    "z={**people,**new}\n",
    "n=sorted(z.items(),key=lambda x:x[0])\n",
    "print(n)"
   ]
  },
  {
   "cell_type": "code",
   "execution_count": 15,
   "id": "dc2680f7",
   "metadata": {},
   "outputs": [
    {
     "name": "stdout",
     "output_type": "stream",
     "text": [
      "['a', 'd']\n",
      "['b', 'e']\n",
      "['c', 'f']\n"
     ]
    }
   ],
   "source": [
    "#l=[[\"a\",\"b\",\"c\"],[\"d\",\"e\",\"f\"]]\n",
    "n=list(zip([\"a\",\"b\",\"c\"],[\"d\",\"e\",\"f\"]))\n",
    "n=map(list,[i for i in n])\n",
    "for i in n:\n",
    "    print(i)"
   ]
  },
  {
   "cell_type": "code",
   "execution_count": 5,
   "id": "041126e9",
   "metadata": {},
   "outputs": [
    {
     "name": "stdout",
     "output_type": "stream",
     "text": [
      "{3: 'Jim', 2: 'Jack', 4: 'Jane', 1: 'Jill', 6: 'yes'}\n"
     ]
    }
   ],
   "source": [
    "people = {3: \"Jim\", 2: \"Jack\", 4: \"Jane\", 1: \"Jill\"}\n",
    "new ={6:\"yes\"}\n",
    "l={}\n",
    "l={**people,**new}\n",
    "print(l)"
   ]
  },
  {
   "cell_type": "code",
   "execution_count": null,
   "id": "da63ef85",
   "metadata": {},
   "outputs": [],
   "source": []
  },
  {
   "cell_type": "code",
   "execution_count": 13,
   "id": "c74c0658",
   "metadata": {},
   "outputs": [
    {
     "name": "stdout",
     "output_type": "stream",
     "text": [
      "4\n"
     ]
    }
   ],
   "source": [
    "l=[10,9,7,10,9,6]\n",
    "maxi=max(l)\n",
    "second=sorted(list(set(l)))[-2]\n",
    "print(l.count(maxi)+l.count(second))"
   ]
  },
  {
   "cell_type": "code",
   "execution_count": 8,
   "id": "69198116",
   "metadata": {},
   "outputs": [
    {
     "name": "stdout",
     "output_type": "stream",
     "text": [
      "('name', 'A')\n",
      "('age', 36)\n"
     ]
    }
   ],
   "source": [
    "def func(**kwargs):\n",
    "    for i in kwargs.items():\n",
    "        print(i)\n",
    "func(name=\"A\",age=36)"
   ]
  },
  {
   "cell_type": "code",
   "execution_count": 34,
   "id": "ab17aa65",
   "metadata": {},
   "outputs": [
    {
     "name": "stdout",
     "output_type": "stream",
     "text": [
      "10\n"
     ]
    }
   ],
   "source": [
    "x=lambda a:a+5\n"
   ]
  },
  {
   "cell_type": "code",
   "execution_count": 6,
   "id": "cf1250fa",
   "metadata": {},
   "outputs": [
    {
     "name": "stdout",
     "output_type": "stream",
     "text": [
      "[1, 2, 3, 4, 5, 6, 7, 9]\n"
     ]
    }
   ],
   "source": [
    "def bubbleSort(llist):\n",
    "    for i in range(len(llist)):\n",
    "        for j in range(len(llist)-i-1):\n",
    "            if llist[j]>llist[j+1]:\n",
    "                llist[j],llist[j+1]=llist[j+1],llist[j]\n",
    "    return llist\n",
    "\n",
    "llist=[5,1,2,7,4,3,9,6]\n",
    "ans=bubbleSort(llist)\n",
    "print(ans)"
   ]
  },
  {
   "cell_type": "markdown",
   "id": "6f084604",
   "metadata": {},
   "source": [
    "#selection sort"
   ]
  },
  {
   "cell_type": "code",
   "execution_count": 11,
   "id": "cfe26251",
   "metadata": {},
   "outputs": [
    {
     "name": "stdout",
     "output_type": "stream",
     "text": [
      "[1, 2, 3, 4, 5, 6, 7, 9]\n"
     ]
    }
   ],
   "source": [
    "def SelectionSort(llist):\n",
    "    for i in range(len(llist)):\n",
    "        mini=i\n",
    "        for j in range(i+1,len(llist)):\n",
    "            if llist[j]<llist[mini]:\n",
    "                mini=j\n",
    "        llist[mini],llist[i]=llist[i],llist[mini]\n",
    "    return llist\n",
    "\n",
    "llist=[5,1,2,7,4,3,9,6]\n",
    "ans=SelectionSort(llist)\n",
    "print(ans)"
   ]
  },
  {
   "cell_type": "markdown",
   "id": "e85b1e61",
   "metadata": {},
   "source": [
    "Insertion Sort"
   ]
  },
  {
   "cell_type": "code",
   "execution_count": 12,
   "id": "9d443cb1",
   "metadata": {},
   "outputs": [
    {
     "name": "stdout",
     "output_type": "stream",
     "text": [
      "[1, 2, 3, 4, 5, 6, 7, 9]\n"
     ]
    }
   ],
   "source": [
    "def InsertionSort(llist):\n",
    "    for i in range(1,len(llist)):\n",
    "        k=llist[i]\n",
    "        j=i-1\n",
    "        while j>=0 and k<llist[j]:\n",
    "            llist[j+1]=llist[j]\n",
    "            j-=1\n",
    "        llist[j+1]=k\n",
    "    return llist\n",
    "\n",
    "llist=[5,1,2,7,4,3,9,6]\n",
    "ans=InsertionSort(llist)\n",
    "print(ans)"
   ]
  },
  {
   "cell_type": "markdown",
   "id": "f6cbd421",
   "metadata": {},
   "source": [
    "Binary Search"
   ]
  },
  {
   "cell_type": "code",
   "execution_count": 25,
   "id": "fa0da752",
   "metadata": {},
   "outputs": [
    {
     "name": "stdout",
     "output_type": "stream",
     "text": [
      "not found\n"
     ]
    }
   ],
   "source": [
    "def Binary(llist,low,high,val):\n",
    "    if high>=low:\n",
    "        mid=low+(high-low)//2\n",
    "        if val >llist[mid]:\n",
    "            return Binary(llist,mid+1,high,val)\n",
    "        elif val<llist[mid]:\n",
    "            return Binary(llist,0,mid-1,val)\n",
    "        elif llist[mid]==val:\n",
    "            return mid\n",
    "    return \"not found\"\n",
    "    \n",
    "llist=[5,1,2,7,3,9,6]\n",
    "llist.sort()\n",
    "ans=Binary(llist,0,len(llist)-1,4)\n",
    "print(ans)\n",
    "#1 2 3 4 "
   ]
  },
  {
   "cell_type": "markdown",
   "id": "c49836ee",
   "metadata": {},
   "source": [
    "quick Sort"
   ]
  },
  {
   "cell_type": "code",
   "execution_count": 22,
   "id": "00094591",
   "metadata": {},
   "outputs": [
    {
     "name": "stdout",
     "output_type": "stream",
     "text": [
      "in loop [5, 1, 2, 7, 4, 3, 9, 6]\n",
      "in loop [5, 1, 2, 7, 4, 3, 9, 6]\n",
      "in loop [5, 1, 2, 7, 4, 3, 9, 6]\n",
      "in loop [5, 1, 2, 4, 7, 3, 9, 6]\n",
      "in loop [5, 1, 2, 4, 3, 7, 9, 6]\n",
      "outer [5, 1, 2, 4, 3, 6, 9, 7]\n",
      "5\n",
      "in loop [1, 5, 2, 4, 3, 6, 9, 7]\n",
      "in loop [1, 2, 5, 4, 3, 6, 9, 7]\n",
      "outer [1, 2, 3, 4, 5, 6, 9, 7]\n",
      "2\n",
      "in loop [1, 2, 3, 4, 5, 6, 9, 7]\n",
      "outer [1, 2, 3, 4, 5, 6, 9, 7]\n",
      "1\n",
      "in loop [1, 2, 3, 4, 5, 6, 9, 7]\n",
      "outer [1, 2, 3, 4, 5, 6, 9, 7]\n",
      "4\n",
      "outer [1, 2, 3, 4, 5, 6, 7, 9]\n",
      "6\n",
      "[1, 2, 3, 4, 5, 6, 7, 9]\n"
     ]
    }
   ],
   "source": [
    "def partition(llist,low,high):\n",
    "    pivot=llist[high] #6\n",
    "    i=low-1\n",
    "    for j in range(low,high):\n",
    "        if llist[j]<=pivot:\n",
    "            i=i+1\n",
    "            llist[i],llist[j]=llist[j],llist[i]\n",
    "    llist[i+1],llist[high]=llist[high],llist[i+1]\n",
    "    return i+1\n",
    "def QuickSort(llist,low,high):\n",
    "    if low<high:\n",
    "        pi=partition(llist,low,high)\n",
    "        QuickSort(llist,low,pi-1)\n",
    "        QuickSort(llist,pi+1,high)\n",
    "    return llist\n",
    "llist=[5,1,2,7,4,3,9,6]\n",
    "ans=QuickSort(llist,0,len(llist)-1)\n",
    "print(ans)"
   ]
  },
  {
   "cell_type": "markdown",
   "id": "ed4cc79d",
   "metadata": {},
   "source": []
  },
  {
   "cell_type": "code",
   "execution_count": 14,
   "id": "3ac7935a",
   "metadata": {},
   "outputs": [
    {
     "name": "stdout",
     "output_type": "stream",
     "text": [
      "[1, 5, 2, 7, 4, 3, 9, 6]\n",
      "[1, 2, 5, 7, 4, 3, 9, 6]\n",
      "[1, 2, 5, 4, 7, 3, 9, 6]\n",
      "[1, 2, 4, 5, 7, 3, 9, 6]\n",
      "[1, 2, 4, 5, 3, 7, 9, 6]\n",
      "[1, 2, 4, 3, 5, 7, 9, 6]\n",
      "[1, 2, 3, 4, 5, 7, 9, 6]\n",
      "[1, 2, 3, 4, 5, 7, 6, 9]\n",
      "[1, 2, 3, 4, 5, 6, 7, 9]\n",
      "[1, 2, 3, 4, 5, 6, 7, 9]\n"
     ]
    }
   ],
   "source": [
    "def InsertionSort(arr):\n",
    "    for i in range(1,len(arr)):\n",
    "        k=arr[i]\n",
    "        j=i-1\n",
    "        while j>=0 and k<=arr[j]:\n",
    "            arr[j+1],arr[j]=arr[j],arr[j+1]\n",
    "            j-=1\n",
    "            print(arr)\n",
    "        arr[j+1]=k\n",
    "    return arr\n",
    "\n",
    "llist=[5,1,2,7,4,3,9,6]\n",
    "ans=InsertionSort(llist)\n",
    "print(ans)"
   ]
  },
  {
   "cell_type": "code",
   "execution_count": null,
   "id": "43241d3b",
   "metadata": {},
   "outputs": [],
   "source": []
  }
 ],
 "metadata": {
  "kernelspec": {
   "display_name": "Python 3 (ipykernel)",
   "language": "python",
   "name": "python3"
  },
  "language_info": {
   "codemirror_mode": {
    "name": "ipython",
    "version": 3
   },
   "file_extension": ".py",
   "mimetype": "text/x-python",
   "name": "python",
   "nbconvert_exporter": "python",
   "pygments_lexer": "ipython3",
   "version": "3.10.6"
  }
 },
 "nbformat": 4,
 "nbformat_minor": 5
}
