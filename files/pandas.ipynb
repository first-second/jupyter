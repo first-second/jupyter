{
 "cells": [
  {
   "cell_type": "code",
   "execution_count": 7,
   "metadata": {},
   "outputs": [
    {
     "name": "stdout",
     "output_type": "stream",
     "text": [
      "0    a\n",
      "1    b\n",
      "2    c\n",
      "3    d\n",
      "dtype: object\n"
     ]
    }
   ],
   "source": [
    "import numpy as np\n",
    "import pandas as pd\n",
    "\n",
    "arr=np.array([\"a\",\"b\",\"c\",\"d\"])\n",
    "\n",
    "sr=pd.Series(arr)\n",
    "print(sr)"
   ]
  },
  {
   "cell_type": "code",
   "execution_count": 9,
   "metadata": {
    "scrolled": true
   },
   "outputs": [
    {
     "name": "stdout",
     "output_type": "stream",
     "text": [
      "5    a\n",
      "6    b\n",
      "7    c\n",
      "dtype: object\n"
     ]
    }
   ],
   "source": [
    "import pandas as pd\n",
    "import numpy as np\n",
    "\n",
    "arr=np.array([\"a\",\"b\",\"c\"])\n",
    "ser=pd.Series(arr,index=[\"5\",\"6\",\"7\"])\n",
    "\n",
    "print(ser)"
   ]
  },
  {
   "cell_type": "code",
   "execution_count": 14,
   "metadata": {},
   "outputs": [
    {
     "name": "stdout",
     "output_type": "stream",
     "text": [
      "        0\n",
      "0  adarsh\n",
      "1  kartik\n",
      "2   jatin\n"
     ]
    }
   ],
   "source": [
    "import pandas as pd\n",
    "import numpy as np\n",
    "\n",
    "data = np.array([\"adarsh\",\"kartik\",\"jatin\"])\n",
    "df=pd.DataFrame(data)\n",
    "\n",
    "print(df)"
   ]
  },
  {
   "cell_type": "code",
   "execution_count": 17,
   "metadata": {},
   "outputs": [
    {
     "name": "stdout",
     "output_type": "stream",
     "text": [
      "     Name Age\n",
      "0  adarsh  20\n",
      "1  kartik  21\n",
      "2   jatin  22\n"
     ]
    }
   ],
   "source": [
    "import pandas as pd\n",
    "import numpy as np\n",
    "\n",
    "data = {\"Name\": [\"adarsh\",\"kartik\",\"jatin\"], \"Age\":[\"20\",\"21\",\"22\"]}\n",
    "df=pd.DataFrame(data)\n",
    "\n",
    "print(df)"
   ]
  },
  {
   "cell_type": "code",
   "execution_count": 1,
   "metadata": {},
   "outputs": [
    {
     "name": "stdout",
     "output_type": "stream",
     "text": [
      "0    Avery Bradley\n",
      "1      Jae Crowder\n",
      "2     John Holland\n",
      "3      R.J. Hunter\n",
      "4    Jonas Jerebko\n",
      "5     Amir Johnson\n",
      "6    Jordan Mickey\n",
      "7     Kelly Olynyk\n",
      "8     Terry Rozier\n",
      "9     Marcus Smart\n",
      "Name: Name, dtype: object\n"
     ]
    }
   ],
   "source": [
    "import pandas as pd\n",
    "\n",
    "df=pd.read_csv(\"nba.csv\")\n",
    "ser=pd.Series(df['Name'])\n",
    "data=ser.head(10)\n",
    "print(data)"
   ]
  },
  {
   "cell_type": "code",
   "execution_count": 3,
   "metadata": {},
   "outputs": [
    {
     "name": "stdout",
     "output_type": "stream",
     "text": [
      "a    2.0\n",
      "b    NaN\n",
      "c    7.0\n",
      "d    7.0\n",
      "s    NaN\n",
      "dtype: float64\n"
     ]
    }
   ],
   "source": [
    "import pandas as pd\n",
    "\n",
    "data=pd.Series([1,2,3,4],index=['a','b','c','d'])\n",
    "data1=pd.Series([1,2,3,4],index=['a','s','d','c'])\n",
    "\n",
    "\n",
    "print(data.add(data1))"
   ]
  },
  {
   "cell_type": "code",
   "execution_count": 4,
   "metadata": {},
   "outputs": [
    {
     "name": "stdout",
     "output_type": "stream",
     "text": [
      "     0\n",
      "a  2.0\n",
      "b  NaN\n",
      "c  7.0\n",
      "d  7.0\n",
      "s  NaN\n"
     ]
    }
   ],
   "source": [
    "import pandas as pd\n",
    "\n",
    "data=pd.DataFrame([1,2,3,4],index=['a','b','c','d'])\n",
    "data1=pd.DataFrame([1,2,3,4],index=['a','s','d','c'])\n",
    "\n",
    "\n",
    "print(data.add(data1))"
   ]
  },
  {
   "cell_type": "code",
   "execution_count": 5,
   "metadata": {},
   "outputs": [
    {
     "name": "stdout",
     "output_type": "stream",
     "text": [
      "a    2.0\n",
      "b    2.0\n",
      "c    7.0\n",
      "d    7.0\n",
      "s    2.0\n",
      "dtype: float64\n"
     ]
    }
   ],
   "source": [
    "import pandas as pd\n",
    "\n",
    "data=pd.Series([1,2,3,4],index=['a','b','c','d'])\n",
    "data1=pd.Series([1,2,3,4],index=['a','s','d','c'])\n",
    "\n",
    "\n",
    "print(data.add(data1,fill_value=0))"
   ]
  },
  {
   "cell_type": "code",
   "execution_count": 17,
   "metadata": {},
   "outputs": [
    {
     "name": "stdout",
     "output_type": "stream",
     "text": [
      "[7730337, 6796117, 1148640, 1170960, 2165160, 1824360, 3431040, 2569260, 6912869, 3425510, 1749840, 2616975, 845059, 1500000, 1335480, 6300000, 134215, 1500000, 19689000, 1140240, 947276, 981348, 947276, 947276, 11235955, 8000000, 1635476, 22875000, 845059, 845059, 1572360, 12650000, 3750000, 1636842, 4000000, 167406, 947276, 1000000, 4626960, 845059, 1074169, 6500000, 2144772, 525093, 3457800, 4582680, 947276, 2869440, 947276, 525093, 13600000, 10050000, 2500000, 7000000, 12000000, 6268675, 650000, 3553917, 245177, 1509360, 3873398, 13800000, 947276, 11370786, 2008748, 14260870, 11710456, 1131960, 845059, 1270964, 3815000, 15501000, 1100602, 111444, 5675000, 525093, 9650000, 18907726, 1100602, 19689000, 947276, 21468695, 3376000, 7085000, 3110796, 1159680, 3000000, 845059, 700000, 845059, 15592217, 1724250, 1155600, 3132240, 5103120, 981348, 947276, 5219169, 13500000, 2127840, 206192, 1160160, 981348, 13500000, 3807120, 1035000, 55722, 947276, 5500000, 2041080, 83397, 981348, 1015421, 1449187, 3398280, 5013559, 15851950, 947276, 525093, 12403101, 7700000, 3156600, 845059, 9500000, 845059, 2250000, 16407500, 4500000, 8500000, 947276, 2380440, 1015421, 13400000, 1391160, 20093064, 1535880, 1147276, 8193029, 16407501, 947276, 947276, 1276000, 19689000, 111196, 8988765, 14260870, 2100000, 2500000, 6500000, 2170465, 111444, 1252440, 2891760, 845059, 3272091, 16000000, 600000, 13913044, 2841960, 6270000, 5000000, 3000000, 4050000, 1007026, 17120106, 8000000, 4000000, 1358880, 211744, 1100000, 7000000, 2357760, 845059, 1007026, 3000000, 2399040, 947276, 1662360, 2943221, 8000000, 14700000, 16407500, 295327, 845059, 5152440, 2109294, 6600000, 1733040, 1449000, 4290000, 1100602, 3950313, 4053446, 2085671, 16407500, 1270964, 15361500, 845059, 947276, 5378974, 8193030, 306527, 6486486, 8229375, 1646400, 200600, 15756438, 1000000, 2489530, 3189794, 947276, 1404600, 5158539, 5000000, 3542500, 4088019, 9588426, 700902, 845059, 1201440, 1230840, 9638555, 9000000, 5464000, 8500000, 1100602, 3036927, 2850000, 7070730, 169883, 1164858, 845059, 10734586, 845059, 1320000, 15514031, 1015421, 10595507, 55722, 3382023, 19689000, 1142880, 947276, 5250000, 10000000, 16407500, 200600, 250750, 3578947, 525093, 1499187, 2000000, 1304520, 2854940, 12000000, 1000000, 5746479, 18671659, 947276, 525093, 3333333, 8000000, 947276, 189455, 947276, 525093, 6110034, 2612520, 6331404, 3034356, 5675000, 2139000, 12000000, 7000000, 4204200, 22192730, 10151612, 2854940, 261894, 845059, 5543725, 525093, 20000000, 981348, 2481720, 947276, 4171680, 845059, 1294440, 2380593, 5192520, 2505720, 4300000, 11250000, 5000000, 4000000, 5694674, 4375000, 561716, 3300000, 273038, 8000000, 1920240, 4662960, 2170465, 1100602, 200600, 15851950, 2814000, 3000000, 3533333, 10449438, 11235955, 1584480, 947276, 4345000, 258489, 1474440, 1282080, 2148360, 2056920, 1938840, 947276, 5703600, 5758680, 2279040, 3750000, 20158622, 3135000, 1140240, 16407500, 1463040, 222888, 3344000, 2021520, 1210800, 4500000, 5138430, 16744218, 525093, 8042895, 625093, 947276, 6980802, 2894059, 6000000, 5016000, 3075880, 4236287, 2525160, 525093, 1415520, 2854940, 2637720, 4775000, 2658240, 9463484, 12000000, 15409570, 1348440, 981348, 2239800, 2433333, 947276]\n"
     ]
    }
   ],
   "source": [
    "import pandas as pd\n",
    "\n",
    "data=pd.read_csv(\"nba.csv\")\n",
    "data.dropna(inplace = True)\n",
    "data[\"Salary\"]=data[\"Salary\"].astype(int)\n",
    "\n",
    "salary=data[\"Salary\"].tolist()\n",
    "print(salary)"
   ]
  },
  {
   "cell_type": "code",
   "execution_count": 23,
   "metadata": {},
   "outputs": [
    {
     "name": "stdout",
     "output_type": "stream",
     "text": [
      "               Name            Team  Number Position   Age Height  Weight  \\\n",
      "0     Avery Bradley  Boston Celtics     0.0       PG  25.0    6-2   180.0   \n",
      "1       Jae Crowder  Boston Celtics    99.0       SF  25.0    6-6   235.0   \n",
      "2      John Holland  Boston Celtics    30.0       SG  27.0    6-5   205.0   \n",
      "3       R.J. Hunter  Boston Celtics    28.0       SG  22.0    6-5   185.0   \n",
      "4     Jonas Jerebko  Boston Celtics     8.0       PF  29.0   6-10   231.0   \n",
      "5      Amir Johnson  Boston Celtics    90.0       PF  29.0    6-9   240.0   \n",
      "6     Jordan Mickey  Boston Celtics    55.0       PF  21.0    6-8   235.0   \n",
      "7      Kelly Olynyk  Boston Celtics    41.0        C  25.0    7-0   238.0   \n",
      "8      Terry Rozier  Boston Celtics    12.0       PG  22.0    6-2   190.0   \n",
      "9      Marcus Smart  Boston Celtics    36.0       PG  22.0    6-4   220.0   \n",
      "10  Jared Sullinger  Boston Celtics     7.0        C  24.0    6-9   260.0   \n",
      "\n",
      "              College      Salary  \n",
      "0               Texas   7730337.0  \n",
      "1           Marquette   6796117.0  \n",
      "2   Boston University         NaN  \n",
      "3       Georgia State   1148640.0  \n",
      "4                 NaN   5000000.0  \n",
      "5                 NaN  12000000.0  \n",
      "6                 LSU   1170960.0  \n",
      "7             Gonzaga   2165160.0  \n",
      "8          Louisville   1824360.0  \n",
      "9      Oklahoma State   3431040.0  \n",
      "10         Ohio State   2569260.0  \n"
     ]
    }
   ],
   "source": [
    "import pandas as pd\n",
    "\n",
    "data=pd.read_csv(\"nba.csv\")\n",
    "\n",
    "result=pd.DataFrame(data)\n",
    "print(data.loc[:10])"
   ]
  },
  {
   "cell_type": "code",
   "execution_count": 24,
   "metadata": {},
   "outputs": [
    {
     "name": "stdout",
     "output_type": "stream",
     "text": [
      "               Name            Team  Number Position   Age Height  Weight  \\\n",
      "0     Avery Bradley  Boston Celtics     0.0       PG  25.0    6-2   180.0   \n",
      "1       Jae Crowder  Boston Celtics    99.0       SF  25.0    6-6   235.0   \n",
      "3       R.J. Hunter  Boston Celtics    28.0       SG  22.0    6-5   185.0   \n",
      "6     Jordan Mickey  Boston Celtics    55.0       PF  21.0    6-8   235.0   \n",
      "7      Kelly Olynyk  Boston Celtics    41.0        C  25.0    7-0   238.0   \n",
      "8      Terry Rozier  Boston Celtics    12.0       PG  22.0    6-2   190.0   \n",
      "9      Marcus Smart  Boston Celtics    36.0       PG  22.0    6-4   220.0   \n",
      "10  Jared Sullinger  Boston Celtics     7.0        C  24.0    6-9   260.0   \n",
      "\n",
      "           College     Salary  \n",
      "0            Texas  7730337.0  \n",
      "1        Marquette  6796117.0  \n",
      "3    Georgia State  1148640.0  \n",
      "6              LSU  1170960.0  \n",
      "7          Gonzaga  2165160.0  \n",
      "8       Louisville  1824360.0  \n",
      "9   Oklahoma State  3431040.0  \n",
      "10      Ohio State  2569260.0  \n"
     ]
    }
   ],
   "source": [
    "\n",
    "import pandas as pd\n",
    "\n",
    "data=pd.read_csv(\"nba.csv\")\n",
    "data.dropna(inplace = True)\n",
    "result=pd.DataFrame(data)\n",
    "print(data.loc[:10])"
   ]
  },
  {
   "cell_type": "code",
   "execution_count": 50,
   "metadata": {},
   "outputs": [
    {
     "name": "stdout",
     "output_type": "stream",
     "text": [
      "            Name            Team  Number Position   Age Height  Weight  \\\n",
      "2   John Holland  Boston Celtics    30.0       SG  27.0    6-5   205.0   \n",
      "3    R.J. Hunter  Boston Celtics    28.0       SG  22.0    6-5   185.0   \n",
      "4  Jonas Jerebko  Boston Celtics     8.0       PF  29.0   6-10   231.0   \n",
      "5   Amir Johnson  Boston Celtics    90.0       PF  29.0    6-9   240.0   \n",
      "\n",
      "             College      Salary  \n",
      "2  Boston University         NaN  \n",
      "3      Georgia State   1148640.0  \n",
      "4                NaN   5000000.0  \n",
      "5                NaN  12000000.0  \n"
     ]
    }
   ],
   "source": [
    "import pandas as pd\n",
    "df=pd.read_csv(\"nba.csv\")\n",
    "\n",
    "print(df.loc[2:5])"
   ]
  },
  {
   "cell_type": "code",
   "execution_count": 59,
   "metadata": {},
   "outputs": [
    {
     "name": "stdout",
     "output_type": "stream",
     "text": [
      "Name\n",
      "Avery Bradley      7730337\n",
      "Jae Crowder        6796117\n",
      "R.J. Hunter        1148640\n",
      "Jordan Mickey      1170960\n",
      "Kelly Olynyk       2165160\n",
      "Terry Rozier       1824360\n",
      "Marcus Smart       3431040\n",
      "Jared Sullinger    2569260\n",
      "Isaiah Thomas      6912869\n",
      "Evan Turner        3425510\n",
      "Name: Salary, dtype: int64\n"
     ]
    }
   ],
   "source": [
    "import pandas as pd\n",
    "df=pd.read_csv(\"nba.csv\",index_col=\"Name\")\n",
    "df.dropna(inplace = True)\n",
    "print(df[\"Salary\"].astype(int).head(10))"
   ]
  },
  {
   "cell_type": "code",
   "execution_count": null,
   "metadata": {},
   "outputs": [],
   "source": []
  },
  {
   "cell_type": "code",
   "execution_count": null,
   "metadata": {},
   "outputs": [],
   "source": []
  }
 ],
 "metadata": {
  "kernelspec": {
   "display_name": "Python 3 (ipykernel)",
   "language": "python",
   "name": "python3"
  },
  "language_info": {
   "codemirror_mode": {
    "name": "ipython",
    "version": 3
   },
   "file_extension": ".py",
   "mimetype": "text/x-python",
   "name": "python",
   "nbconvert_exporter": "python",
   "pygments_lexer": "ipython3",
   "version": "3.10.4"
  }
 },
 "nbformat": 4,
 "nbformat_minor": 4
}
