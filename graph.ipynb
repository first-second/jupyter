{
 "cells": [
  {
   "cell_type": "code",
   "execution_count": 12,
   "id": "8bfd2f3e",
   "metadata": {},
   "outputs": [
    {
     "name": "stdout",
     "output_type": "stream",
     "text": [
      "defaultdict(<class 'list'>, {0: [1]})\n",
      "defaultdict(<class 'list'>, {0: [1, 2]})\n",
      "defaultdict(<class 'list'>, {0: [1, 2], 1: [2]})\n",
      "defaultdict(<class 'list'>, {0: [1, 2], 1: [2, 3]})\n",
      "defaultdict(<class 'list'>, {0: [1, 2], 1: [2, 3], 2: [1]})\n",
      "defaultdict(<class 'list'>, {0: [1, 2], 1: [2, 3], 2: [1, 4]})\n",
      "defaultdict(<class 'list'>, {0: [1, 2], 1: [2, 3], 2: [1, 4], 3: [1]})\n",
      "defaultdict(<class 'list'>, {0: [1, 2], 1: [2, 3], 2: [1, 4], 3: [1, 4]})\n",
      "defaultdict(<class 'list'>, {0: [1, 2], 1: [2, 3], 2: [1, 4], 3: [1, 4], 4: [2]})\n",
      "defaultdict(<class 'list'>, {0: [1, 2], 1: [2, 3], 2: [1, 4], 3: [1, 4], 4: [2, 3]})\n",
      "[False, False, False, False, False]\n",
      "[True, False, False, False, False]\n",
      "0 [True, True, False, False, False]\n",
      "[True, True, True, False, False]\n",
      "2 [True, True, True, False, True]\n",
      "4 [True, True, True, True, True]\n",
      "3 1 "
     ]
    }
   ],
   "source": [
    "from collections import defaultdict\n",
    "class Graph:\n",
    "    def __init__(self):\n",
    "        self.graph = defaultdict(list)\n",
    "    def addEdge(self,u,v):\n",
    "        self.graph[u].append(v)\n",
    "        print(self.graph)\n",
    "    def BFS(self,s):\n",
    "        visited = [False] * (max(self.graph)+1)\n",
    "        print(visited)\n",
    "        queue = []\n",
    "        \n",
    "        queue.append(s)\n",
    "        visited[s]=True\n",
    "        print(visited)\n",
    "        while queue:\n",
    "            s=queue.pop()\n",
    "            print(s,end=\" \")\n",
    "            \n",
    "            for i in self.graph[s]:\n",
    "                if visited[i] == False:\n",
    "                    queue.append(i)\n",
    "                    visited[i] = True\n",
    "                    print(visited)\n",
    "        \n",
    "        \n",
    "if __name__ == \"__main__\":\n",
    "    g = Graph()\n",
    "    data=[(0,1),(0,2),(1,2),(1,3),(2,1),(2,4),(3,1),(3,4),(4,2),(4,3)]\n",
    "    for x,y in data:\n",
    "        g.addEdge(x,y)\n",
    "    #print(\"Following is Breadth First Traversal \\n (starting from vertex 2)\")\n",
    "    g.BFS(0)"
   ]
  },
  {
   "cell_type": "code",
   "execution_count": null,
   "id": "67fb5ac6",
   "metadata": {},
   "outputs": [],
   "source": []
  }
 ],
 "metadata": {
  "kernelspec": {
   "display_name": "Python 3 (ipykernel)",
   "language": "python",
   "name": "python3"
  },
  "language_info": {
   "codemirror_mode": {
    "name": "ipython",
    "version": 3
   },
   "file_extension": ".py",
   "mimetype": "text/x-python",
   "name": "python",
   "nbconvert_exporter": "python",
   "pygments_lexer": "ipython3",
   "version": "3.10.6"
  }
 },
 "nbformat": 4,
 "nbformat_minor": 5
}
