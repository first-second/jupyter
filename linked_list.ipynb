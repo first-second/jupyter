{
 "cells": [
  {
   "cell_type": "markdown",
   "id": "4cfe1efd",
   "metadata": {},
   "source": [
    "linked list"
   ]
  },
  {
   "cell_type": "code",
   "execution_count": 2,
   "id": "c7483e00",
   "metadata": {},
   "outputs": [
    {
     "name": "stdout",
     "output_type": "stream",
     "text": [
      "mon\n",
      "tue\n",
      "wed\n"
     ]
    }
   ],
   "source": [
    "class Node:\n",
    "    def __init__(self,data):\n",
    "        self.data=data\n",
    "        self.next=None\n",
    "class LinkedList:\n",
    "    def __init__(self):\n",
    "        self.head=None\n",
    "    def printlist(self):\n",
    "        headval=self.head\n",
    "        while headval:\n",
    "            print(headval.data)\n",
    "            headval=headval.next\n",
    "if __name__==\"__main__\":\n",
    "    obj=LinkedList()\n",
    "    obj.head=Node(\"mon\")\n",
    "    e2=Node(\"tue\")\n",
    "    e3=Node(\"wed\")\n",
    "    obj.head.next=e2\n",
    "    e2.next=e3\n",
    "    obj.printlist()\n"
   ]
  },
  {
   "cell_type": "markdown",
   "id": "494f7eea",
   "metadata": {},
   "source": [
    "Tree"
   ]
  },
  {
   "cell_type": "code",
   "execution_count": 14,
   "id": "11bc5437",
   "metadata": {},
   "outputs": [
    {
     "name": "stdout",
     "output_type": "stream",
     "text": [
      "left 2\n",
      "2\n",
      "right 4\n",
      "left 3\n",
      "3\n",
      "4\n",
      "5\n",
      "right 7\n",
      "7\n",
      "right 8\n",
      "8\n",
      "right 9\n",
      "9\n",
      "[2, 3, 4, 5, 7, 8, 9]\n"
     ]
    }
   ],
   "source": [
    "class Tree:\n",
    "    def __init__(self,data):\n",
    "        self.data=data\n",
    "        self.left=None\n",
    "        self.right=None\n",
    "    def addchild(self,data):\n",
    "        if data==self.data:\n",
    "            return\n",
    "        if data<self.data:\n",
    "            if self.left:\n",
    "                self.left.addchild(data)\n",
    "            else:\n",
    "                self.left=Tree(data)\n",
    "        if data>self.data:\n",
    "            if self.right:\n",
    "                self.right.addchild(data)\n",
    "            else:\n",
    "                self.right=Tree(data)\n",
    "    def inorder(self):\n",
    "        elements=[]\n",
    "        if self.left:\n",
    "            print(\"left\",self.left.data)\n",
    "            elements+=self.left.inorder()\n",
    "        elements.append(self.data)\n",
    "        print(self.data)\n",
    "        if self.right:\n",
    "            print(\"right\",self.right.data)\n",
    "            elements+=self.right.inorder()\n",
    "        return elements\n",
    "    \n",
    "def buildTree(val):\n",
    "    root=Tree(val[0])\n",
    "    for i in range(1,len(val)):\n",
    "        root.addchild(val[i])\n",
    "    return root\n",
    "if __name__==\"__main__\":\n",
    "    val=[5,2,4,7,8,9,3]\n",
    "    ans=buildTree(val)\n",
    "    val=ans.inorder()\n",
    "    print(val)"
   ]
  },
  {
   "cell_type": "code",
   "execution_count": null,
   "id": "8777a92a",
   "metadata": {},
   "outputs": [],
   "source": []
  }
 ],
 "metadata": {
  "kernelspec": {
   "display_name": "Python 3 (ipykernel)",
   "language": "python",
   "name": "python3"
  },
  "language_info": {
   "codemirror_mode": {
    "name": "ipython",
    "version": 3
   },
   "file_extension": ".py",
   "mimetype": "text/x-python",
   "name": "python",
   "nbconvert_exporter": "python",
   "pygments_lexer": "ipython3",
   "version": "3.10.6"
  }
 },
 "nbformat": 4,
 "nbformat_minor": 5
}
