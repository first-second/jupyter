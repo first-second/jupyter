{
 "cells": [
  {
   "cell_type": "code",
   "execution_count": null,
   "id": "0881e9f8",
   "metadata": {},
   "outputs": [],
   "source": [
    "#bubble sort\n",
    "arr = [9,1,4,5,6,8,2,7]\n",
    "\n",
    "for i in range (len(arr)):\n",
    "    for j in range(i+1,len(arr)):\n",
    "        if arr[j] < arr[i]:\n",
    "            arr[i],arr[j] = arr[j],arr[i]\n",
    "print(arr)\n",
    "            "
   ]
  },
  {
   "cell_type": "code",
   "execution_count": 5,
   "id": "d1237446",
   "metadata": {},
   "outputs": [
    {
     "name": "stdout",
     "output_type": "stream",
     "text": [
      "[1, 2, 4, 5, 6, 7, 8, 9]\n"
     ]
    }
   ],
   "source": [
    "#selection sort\n",
    "arr = [9,1,4,5,6,8,2,7]\n",
    "\n",
    "for i in range(len(arr)-1):\n",
    "    mini=i\n",
    "    for j in range(i+1,len(arr)):\n",
    "        if arr[j]< arr[mini]:\n",
    "            mini=j\n",
    "    arr[mini],arr[i]=arr[i],arr[mini]\n",
    "print(arr)\n",
    "    "
   ]
  },
  {
   "cell_type": "code",
   "execution_count": 43,
   "id": "1448fa49",
   "metadata": {},
   "outputs": [
    {
     "name": "stdout",
     "output_type": "stream",
     "text": [
      "not found\n"
     ]
    }
   ],
   "source": [
    "#binary search\n",
    "def binary(arr,start,end,val):\n",
    "    if start <= end:\n",
    "        mid = (start + end)//2\n",
    "        if arr[mid] == val:\n",
    "            return mid\n",
    "        elif val > arr[mid]:\n",
    "            return binary(arr,mid+1,end,val)\n",
    "        else:\n",
    "            return binary(arr,start,mid-1,val)\n",
    "    else:\n",
    "        return -1\n",
    "\n",
    "\n",
    "if __name__==\"__main__\":\n",
    "    arr = [9,1,4,5,6,8,2,7]\n",
    "    length=len(arr)\n",
    "    val=11\n",
    "    arr.sort()\n",
    "    ans=binary(arr,0,length-1,val)\n",
    "    if ans != -1:\n",
    "        print(f\"found at {ans}\")\n",
    "    else:\n",
    "        print(\"not found\")"
   ]
  },
  {
   "cell_type": "code",
   "execution_count": null,
   "id": "3e13b2f5",
   "metadata": {},
   "outputs": [],
   "source": []
  },
  {
   "cell_type": "code",
   "execution_count": null,
   "id": "e8b01c5a",
   "metadata": {},
   "outputs": [],
   "source": []
  }
 ],
 "metadata": {
  "kernelspec": {
   "display_name": "Python 3 (ipykernel)",
   "language": "python",
   "name": "python3"
  },
  "language_info": {
   "codemirror_mode": {
    "name": "ipython",
    "version": 3
   },
   "file_extension": ".py",
   "mimetype": "text/x-python",
   "name": "python",
   "nbconvert_exporter": "python",
   "pygments_lexer": "ipython3",
   "version": "3.10.11"
  }
 },
 "nbformat": 4,
 "nbformat_minor": 5
}
