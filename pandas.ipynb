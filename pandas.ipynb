{
 "cells": [
  {
   "cell_type": "code",
   "execution_count": 3,
   "id": "784f9526",
   "metadata": {},
   "outputs": [
    {
     "name": "stdout",
     "output_type": "stream",
     "text": [
      "       Unnamed: 0       date     price  year  month   D\n",
      "0               0 1982-07-01  178.7900  1982      7   1\n",
      "1               1 1982-07-02  180.6500  1982      7   2\n",
      "2               2 1982-07-06  180.4200  1982      7   6\n",
      "3               3 1982-07-07  179.3000  1982      7   7\n",
      "4               4 1982-07-08  183.2800  1982      7   8\n",
      "...           ...        ...       ...   ...    ...  ..\n",
      "34699       10470 2022-11-21   20.8415  2022     11  21\n",
      "34700       10471 2022-11-22   21.0802  2022     11  22\n",
      "34701       10472 2022-11-23   21.5144  2022     11  23\n",
      "34702       10473 2022-11-24   21.5100  2022     11  24\n",
      "34703       10474 2022-11-25   21.5900  2022     11  25\n",
      "\n",
      "[34704 rows x 6 columns]\n"
     ]
    }
   ],
   "source": [
    "import pandas as pd\n",
    "import matplotlib as plt\n",
    "import math\n",
    "\n",
    "df=pd.read_excel(\"gold_new.xlsx\")\n",
    "print(df)"
   ]
  },
  {
   "cell_type": "code",
   "execution_count": 8,
   "id": "45db6897",
   "metadata": {},
   "outputs": [],
   "source": [
    "years=list(set(df['year']))\n",
    "\n",
    "#print(years*365)"
   ]
  },
  {
   "cell_type": "code",
   "execution_count": 9,
   "id": "a91a5b05",
   "metadata": {},
   "outputs": [
    {
     "name": "stdout",
     "output_type": "stream",
     "text": [
      "20075\n"
     ]
    }
   ],
   "source": [
    "print(len(years)*365)"
   ]
  },
  {
   "cell_type": "code",
   "execution_count": 12,
   "id": "64fa891f",
   "metadata": {},
   "outputs": [],
   "source": [
    "df=df.drop_duplicates(subset=[\"date\"], keep=False)"
   ]
  },
  {
   "cell_type": "code",
   "execution_count": 22,
   "id": "c69c8abb",
   "metadata": {},
   "outputs": [],
   "source": [
    "sorted_df = df.sort_values(by=['date'], ascending=True)"
   ]
  },
  {
   "cell_type": "code",
   "execution_count": 24,
   "id": "93c3432e",
   "metadata": {},
   "outputs": [],
   "source": [
    "sorted_df.to_excel(\"gold_sorted.xlsx\")"
   ]
  },
  {
   "cell_type": "code",
   "execution_count": 25,
   "id": "eaf9a41f",
   "metadata": {},
   "outputs": [],
   "source": [
    "df=pd.read_excel(\"gold_sorted.xlsx\")"
   ]
  },
  {
   "cell_type": "code",
   "execution_count": 26,
   "id": "0b8e512f",
   "metadata": {},
   "outputs": [],
   "source": [
    "years=list(set(df['year']))"
   ]
  },
  {
   "cell_type": "code",
   "execution_count": 27,
   "id": "88c9b496",
   "metadata": {},
   "outputs": [
    {
     "name": "stdout",
     "output_type": "stream",
     "text": [
      "[1968, 1969, 1970, 1971, 1972, 1973, 1974, 1975, 1976, 1977, 1978, 1979, 1980, 1981, 1982, 1983, 1984, 1985, 1986, 1987, 1988, 1989, 1990, 1991, 1992, 1993, 1994, 1995, 1996, 1997, 1998, 1999, 2000, 2001, 2002, 2003, 2004, 2005, 2006, 2007, 2008, 2009, 2010, 2011, 2012, 2013, 2014, 2015, 2016, 2017, 2018, 2019, 2020, 2021, 2022]\n"
     ]
    }
   ],
   "source": [
    "print(years)"
   ]
  },
  {
   "cell_type": "code",
   "execution_count": 34,
   "id": "7f4e80e6",
   "metadata": {},
   "outputs": [
    {
     "name": "stdout",
     "output_type": "stream",
     "text": [
      "[159, 206, 165, 203, 221, 231, 244, 241, 242, 245, 248, 234, 262, 261, 251, 252, 252, 252, 257, 260, 260, 259, 260, 260, 262, 260, 260, 260, 261, 260, 260, 260, 260, 260, 260, 260, 262, 260, 260, 261, 262, 261, 261, 260, 261, 261, 261, 261, 261, 260, 261, 261, 262, 261, 235]\n"
     ]
    }
   ],
   "source": [
    "count_per_year=[]\n",
    "for i in years:\n",
    "    count_per_year.append(df['year'].value_counts()[i])\n",
    "print(new)"
   ]
  },
  {
   "cell_type": "code",
   "execution_count": null,
   "id": "b412127b",
   "metadata": {},
   "outputs": [],
   "source": []
  }
 ],
 "metadata": {
  "kernelspec": {
   "display_name": "Python 3 (ipykernel)",
   "language": "python",
   "name": "python3"
  },
  "language_info": {
   "codemirror_mode": {
    "name": "ipython",
    "version": 3
   },
   "file_extension": ".py",
   "mimetype": "text/x-python",
   "name": "python",
   "nbconvert_exporter": "python",
   "pygments_lexer": "ipython3",
   "version": "3.10.6"
  }
 },
 "nbformat": 4,
 "nbformat_minor": 5
}
