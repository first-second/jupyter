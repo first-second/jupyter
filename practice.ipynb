{
 "cells": [
  {
   "cell_type": "code",
   "execution_count": 1,
   "id": "ea9d7c7f",
   "metadata": {},
   "outputs": [
    {
     "data": {
      "text/plain": [
       "[0, 1, 1, 2, 3, 5, 8, 13, 21, 34]"
      ]
     },
     "execution_count": 1,
     "metadata": {},
     "output_type": "execute_result"
    }
   ],
   "source": [
    "def fib(n=9):\n",
    "    f=[0,1]\n",
    "    for i in range(2,n+1):\n",
    "        f.append(f[i-1]+f[i-2])\n",
    "    return f\n",
    "fib()"
   ]
  },
  {
   "cell_type": "code",
   "execution_count": null,
   "id": "f76b8318",
   "metadata": {},
   "outputs": [],
   "source": []
  },
  {
   "cell_type": "code",
   "execution_count": 2,
   "id": "cd870e90",
   "metadata": {},
   "outputs": [
    {
     "name": "stdout",
     "output_type": "stream",
     "text": [
      "[8, 23, 10, 2, 1]\n",
      "[8, 10, 23, 2, 1]\n",
      "[8, 10, 2, 23, 1]\n",
      "[8, 10, 2, 1, 23]\n",
      "[8, 10, 2, 1, 23]\n",
      "[8, 2, 10, 1, 23]\n",
      "[8, 2, 1, 10, 23]\n",
      "[2, 8, 1, 10, 23]\n",
      "[2, 1, 8, 10, 23]\n",
      "[1, 2, 8, 10, 23]\n",
      "[1, 2, 8, 10, 23]\n"
     ]
    }
   ],
   "source": [
    "def bubblesort(arr):\n",
    "    n=len(arr)\n",
    "    for i in range(n):\n",
    "        for j in range(0,n-i-1):\n",
    "            if(arr[j]>arr[j+1]):\n",
    "                arr[j],arr[j+1]=arr[j+1],arr[j]\n",
    "                print(arr)\n",
    "            else:\n",
    "                print(arr)\n",
    "    return arr\n",
    "    \n",
    "l=[8,23,10,2,1]\n",
    "print(bubblesort(l))"
   ]
  },
  {
   "cell_type": "code",
   "execution_count": 3,
   "id": "86539cbe",
   "metadata": {},
   "outputs": [
    {
     "name": "stdout",
     "output_type": "stream",
     "text": [
      "[1, 2, 8, 10, 23]\n"
     ]
    }
   ],
   "source": [
    "def selectionsort(arr):\n",
    "    n=len(arr)\n",
    "    for i in range(n):\n",
    "        min_idx=i\n",
    "        for j in range(i+1,n):\n",
    "            if(arr[j]<arr[min_idx]):\n",
    "                min_idx=j\n",
    "        arr[min_idx],arr[i]=arr[i],arr[min_idx]\n",
    "    \n",
    "    return arr\n",
    "l=[8,2,10,23,1]\n",
    "print(selectionsort(l))               \n",
    "\n",
    "    "
   ]
  },
  {
   "cell_type": "code",
   "execution_count": 4,
   "id": "c45f151d",
   "metadata": {},
   "outputs": [
    {
     "name": "stdout",
     "output_type": "stream",
     "text": [
      "[1, 2, 8, 10, 23]\n"
     ]
    }
   ],
   "source": [
    "def Isort(arr):\n",
    "    n=len(arr)\n",
    "    for i in range(1,n):\n",
    "        a=arr[i]\n",
    "        j=i-1\n",
    "        while(j>=0 and a<arr[j]):\n",
    "            arr[j+1]=arr[j]\n",
    "            j-=1\n",
    "        arr[j+1]=a    \n",
    "    return arr\n",
    "l=[8,2,10,23,1]\n",
    "print(Isort(l))"
   ]
  },
  {
   "cell_type": "code",
   "execution_count": 5,
   "id": "bb6eb342",
   "metadata": {},
   "outputs": [
    {
     "name": "stdout",
     "output_type": "stream",
     "text": [
      "1 2 3 4\n"
     ]
    }
   ],
   "source": [
    "ams=[1,2,3,4]\n",
    "print(*ams)"
   ]
  },
  {
   "cell_type": "code",
   "execution_count": 6,
   "id": "f1ed0583",
   "metadata": {},
   "outputs": [
    {
     "name": "stdout",
     "output_type": "stream",
     "text": [
      "4321\n"
     ]
    }
   ],
   "source": [
    "n=1234\n",
    "rev=0\n",
    "while(n>0):\n",
    "    dig=n%10\n",
    "    rev=rev*10+dig\n",
    "    n=n//10\n",
    "print(rev)"
   ]
  },
  {
   "cell_type": "code",
   "execution_count": 7,
   "id": "488c5740",
   "metadata": {},
   "outputs": [
    {
     "name": "stdout",
     "output_type": "stream",
     "text": [
      "4321\n"
     ]
    }
   ],
   "source": [
    "n=1234\n",
    "s=str(n)\n",
    "print(int(s[::-1]))"
   ]
  },
  {
   "cell_type": "code",
   "execution_count": 8,
   "id": "2f6acddf",
   "metadata": {},
   "outputs": [
    {
     "name": "stdout",
     "output_type": "stream",
     "text": [
      "101\n",
      "103\n",
      "107\n",
      "109\n",
      "113\n",
      "127\n",
      "131\n",
      "137\n",
      "139\n",
      "149\n",
      "151\n",
      "157\n",
      "163\n",
      "167\n",
      "173\n",
      "179\n",
      "181\n",
      "191\n",
      "193\n",
      "197\n",
      "199\n"
     ]
    }
   ],
   "source": [
    "#TO print prime numbers between 100 and 200\n",
    "for num in range(100,200):\n",
    "    if all(num%i !=0 for i in range(2,num)):\n",
    "        print(num)\n"
   ]
  },
  {
   "cell_type": "code",
   "execution_count": 9,
   "id": "277d4fd7",
   "metadata": {},
   "outputs": [
    {
     "name": "stdout",
     "output_type": "stream",
     "text": [
      "[122, 50, 21, 12, 9, 8, 5, 3, 2]\n"
     ]
    }
   ],
   "source": [
    "#TO print sorted values of list in reverse order\n",
    "l=[122,3,8,50,21,12,5,2,9]\n",
    "l.sort(reverse=True)\n",
    "print(l)"
   ]
  },
  {
   "cell_type": "code",
   "execution_count": 10,
   "id": "40dd768d",
   "metadata": {},
   "outputs": [
    {
     "name": "stdout",
     "output_type": "stream",
     "text": [
      "[2, 3, 5, 8, 9, 12, 21, 50, 122]\n"
     ]
    }
   ],
   "source": [
    "x=[122,3,8,50,21,12,5,2,9]\n",
    "l=len(x)\n",
    "for i in range(l):\n",
    "    for j in range(0,l-i-1):\n",
    "        if(x[j]>x[j+1]):\n",
    "            x[j],x[j+1]=x[j+1],x[j]\n",
    "print(x)\n",
    "    "
   ]
  },
  {
   "cell_type": "code",
   "execution_count": 11,
   "id": "c68d49ab",
   "metadata": {},
   "outputs": [
    {
     "name": "stdout",
     "output_type": "stream",
     "text": [
      "8 9 122\n"
     ]
    }
   ],
   "source": [
    "#print duplicate numbers\n",
    "x=[122,3,8,50,9,21,8,12,5,2,9,122]\n",
    "print(*set([i for i in x if x.count(i)>1]))"
   ]
  },
  {
   "cell_type": "code",
   "execution_count": 12,
   "id": "02997ea9",
   "metadata": {},
   "outputs": [
    {
     "name": "stdout",
     "output_type": "stream",
     "text": [
      "4\n",
      "my name is abc\n",
      "['my', 'name', 'is', 'abc']\n"
     ]
    }
   ],
   "source": [
    "st=\"my name is abc\"\n",
    "print(len(st.split(\" \")))\n",
    "print(st)\n",
    "x=st.split(\" \")\n",
    "print(x)"
   ]
  },
  {
   "cell_type": "code",
   "execution_count": 2,
   "id": "816ab319",
   "metadata": {},
   "outputs": [
    {
     "name": "stdout",
     "output_type": "stream",
     "text": [
      "4384613\n"
     ]
    }
   ],
   "source": [
    "st=\"vz43vrg8z46b13x\"\n",
    "x=\"\".join(filter(lambda i: i.isdigit(),st))\n",
    "print(x)"
   ]
  },
  {
   "cell_type": "code",
   "execution_count": 14,
   "id": "e90434b1",
   "metadata": {},
   "outputs": [
    {
     "name": "stdout",
     "output_type": "stream",
     "text": [
      "['my', 'name', 'is', 'abc']\n"
     ]
    }
   ],
   "source": [
    "st=\"my name is abc\"\n",
    "x=st.split(\" \")\n",
    "print(x)"
   ]
  },
  {
   "cell_type": "code",
   "execution_count": 15,
   "id": "b112e413",
   "metadata": {},
   "outputs": [
    {
     "name": "stdout",
     "output_type": "stream",
     "text": [
      "[2, 3, 5, 8, 9, 12, 21, 50, 122]\n"
     ]
    }
   ],
   "source": [
    "arr=[122,3,8,50,21,12,5,2,9]\n",
    "n=len(arr)\n",
    "for i in range(n):\n",
    "    min_idx=i\n",
    "    for j in range(i+1,n):\n",
    "        if(arr[j]<arr[min_idx]):\n",
    "            min_idx=j\n",
    "    arr[min_idx],arr[i]=arr[i],arr[min_idx]\n",
    "print(arr)\n",
    "        \n",
    "     "
   ]
  },
  {
   "cell_type": "code",
   "execution_count": 16,
   "id": "945f0ecf",
   "metadata": {},
   "outputs": [
    {
     "name": "stdout",
     "output_type": "stream",
     "text": [
      "[2, 3, 5, 8, 9, 12, 21, 50, 122]\n"
     ]
    }
   ],
   "source": [
    "#insertion sort\n",
    "arr=[122,3,8,50,21,12,5,2,9]\n",
    "n=len(arr)\n",
    "for i in range(1,n):\n",
    "    a=arr[i]\n",
    "    j=i-1\n",
    "    while(j>=0 and a<arr[j]):\n",
    "        arr[j+1]=arr[j]\n",
    "        j-=1\n",
    "    arr[j+1]=a\n",
    "print(arr)\n",
    "        "
   ]
  },
  {
   "cell_type": "code",
   "execution_count": null,
   "id": "95ba15aa",
   "metadata": {},
   "outputs": [],
   "source": [
    "#binary search\n",
    "def binary(arr,low,high,val):\n",
    "    if(low<=high):\n",
    "        mid=low+(high-low)//2\n",
    "        if(arr[mid]==val):\n",
    "            return mid\n",
    "        elif(arr[mid]>val):\n",
    "            return binary(arr,low,mid-1,val)\n",
    "        else:\n",
    "            return binary(arr,mid+1,high,val)\n",
    "    else:\n",
    "        return 0\n",
    "        \n",
    "num=int(input())    \n",
    "arr=list(map(int,input().strip().split()))\n",
    "arr.sort()\n",
    "val=1002\n",
    "ans=binary(arr,0,len(arr)-1,val)\n",
    "if(ans!=0):\n",
    "    print(ans)\n",
    "else:\n",
    "    print(\"not found\")\n"
   ]
  },
  {
   "cell_type": "code",
   "execution_count": 18,
   "id": "58ebc4a2",
   "metadata": {},
   "outputs": [
    {
     "name": "stdout",
     "output_type": "stream",
     "text": [
      "i\n",
      "a\n",
      "o\n",
      "o\n"
     ]
    }
   ],
   "source": [
    "vol=['a','e','i','o','u']\n",
    "st=\"snivlsntbaotbmbdmlzo\"\n",
    "for i in st:\n",
    "    if(i in vol):\n",
    "        print(i)"
   ]
  },
  {
   "cell_type": "code",
   "execution_count": 3,
   "id": "d756737b",
   "metadata": {},
   "outputs": [
    {
     "name": "stdout",
     "output_type": "stream",
     "text": [
      "{'e', 'a', 'w', ' ', 'y', 'u', 'o', 'r', 'h'}\n"
     ]
    }
   ],
   "source": [
    "s1=\"hello\"\n",
    "s2=\"how are you\"\n",
    "#x=(list(set(s1) and set(s2)))\n",
    "x=set(s1) and set(s2)\n",
    "print(x)\n",
    "#print(''.join(x))"
   ]
  },
  {
   "cell_type": "code",
   "execution_count": 20,
   "id": "690b6d19",
   "metadata": {},
   "outputs": [
    {
     "name": "stdout",
     "output_type": "stream",
     "text": [
      "101\n",
      "103\n",
      "107\n",
      "109\n",
      "113\n",
      "127\n",
      "131\n",
      "137\n",
      "139\n",
      "149\n",
      "151\n",
      "157\n",
      "163\n",
      "167\n",
      "173\n",
      "179\n",
      "181\n",
      "191\n",
      "193\n",
      "197\n",
      "199\n"
     ]
    }
   ],
   "source": [
    "#prime number between 100 and 200\n",
    "for val in range(100,200):\n",
    "    if all(val%i!=0 for i in range(2,val)):\n",
    "        print(val)"
   ]
  },
  {
   "cell_type": "code",
   "execution_count": 5,
   "id": "88623c7c",
   "metadata": {},
   "outputs": [
    {
     "name": "stdout",
     "output_type": "stream",
     "text": [
      "100\n",
      "\n"
     ]
    },
    {
     "ename": "NameError",
     "evalue": "name 'friends' is not defined",
     "output_type": "error",
     "traceback": [
      "\u001b[0;31m---------------------------------------------------------------------------\u001b[0m",
      "\u001b[0;31mNameError\u001b[0m                                 Traceback (most recent call last)",
      "\u001b[0;32m/tmp/ipykernel_15292/3777007653.py\u001b[0m in \u001b[0;36m<module>\u001b[0;34m\u001b[0m\n\u001b[1;32m      2\u001b[0m \u001b[0;32mfor\u001b[0m \u001b[0mi\u001b[0m \u001b[0;32min\u001b[0m \u001b[0mrange\u001b[0m\u001b[0;34m(\u001b[0m\u001b[0;36m0\u001b[0m\u001b[0;34m,\u001b[0m\u001b[0mnum\u001b[0m\u001b[0;34m)\u001b[0m\u001b[0;34m:\u001b[0m\u001b[0;34m\u001b[0m\u001b[0;34m\u001b[0m\u001b[0m\n\u001b[1;32m      3\u001b[0m     \u001b[0mstudents\u001b[0m\u001b[0;34m=\u001b[0m\u001b[0mmap\u001b[0m\u001b[0;34m(\u001b[0m\u001b[0mint\u001b[0m\u001b[0;34m,\u001b[0m\u001b[0minput\u001b[0m\u001b[0;34m(\u001b[0m\u001b[0;34m)\u001b[0m\u001b[0;34m.\u001b[0m\u001b[0msplit\u001b[0m\u001b[0;34m(\u001b[0m\u001b[0;34m\" \"\u001b[0m\u001b[0;34m)\u001b[0m\u001b[0;34m)\u001b[0m\u001b[0;34m\u001b[0m\u001b[0;34m\u001b[0m\u001b[0m\n\u001b[0;32m----> 4\u001b[0;31m     \u001b[0;32mif\u001b[0m\u001b[0;34m(\u001b[0m\u001b[0mfriends\u001b[0m \u001b[0;34m<=\u001b[0m \u001b[0mstudents\u001b[0m\u001b[0;34m//\u001b[0m\u001b[0;36m2\u001b[0m\u001b[0;34m)\u001b[0m\u001b[0;34m:\u001b[0m\u001b[0;34m\u001b[0m\u001b[0;34m\u001b[0m\u001b[0m\n\u001b[0m\u001b[1;32m      5\u001b[0m         \u001b[0mprint\u001b[0m\u001b[0;34m(\u001b[0m\u001b[0;34m\"yes\"\u001b[0m\u001b[0;34m)\u001b[0m\u001b[0;34m\u001b[0m\u001b[0;34m\u001b[0m\u001b[0m\n\u001b[1;32m      6\u001b[0m     \u001b[0;32melse\u001b[0m\u001b[0;34m:\u001b[0m\u001b[0;34m\u001b[0m\u001b[0;34m\u001b[0m\u001b[0m\n",
      "\u001b[0;31mNameError\u001b[0m: name 'friends' is not defined"
     ]
    }
   ],
   "source": [
    "num=int(input())\n",
    "for i in range(0,num):\n",
    "    students=map(int,input().split(\" \"))\n",
    "    if(friends <= students//2):\n",
    "        print(\"yes\")\n",
    "    else:\n",
    "        print(\"no\")\n",
    "    "
   ]
  },
  {
   "cell_type": "code",
   "execution_count": 6,
   "id": "c2d3409d",
   "metadata": {},
   "outputs": [
    {
     "name": "stdout",
     "output_type": "stream",
     "text": [
      "100\n",
      "\n",
      "[]\n"
     ]
    },
    {
     "ename": "IndexError",
     "evalue": "list index out of range",
     "output_type": "error",
     "traceback": [
      "\u001b[0;31m---------------------------------------------------------------------------\u001b[0m",
      "\u001b[0;31mIndexError\u001b[0m                                Traceback (most recent call last)",
      "\u001b[0;32m/tmp/ipykernel_15292/1373243935.py\u001b[0m in \u001b[0;36m<module>\u001b[0;34m\u001b[0m\n\u001b[1;32m      8\u001b[0m \u001b[0mprint\u001b[0m\u001b[0;34m(\u001b[0m\u001b[0ml\u001b[0m\u001b[0;34m)\u001b[0m\u001b[0;34m\u001b[0m\u001b[0;34m\u001b[0m\u001b[0m\n\u001b[1;32m      9\u001b[0m \u001b[0ml\u001b[0m\u001b[0;34m.\u001b[0m\u001b[0msort\u001b[0m\u001b[0;34m(\u001b[0m\u001b[0mreverse\u001b[0m\u001b[0;34m=\u001b[0m\u001b[0;32mTrue\u001b[0m\u001b[0;34m)\u001b[0m\u001b[0;34m\u001b[0m\u001b[0;34m\u001b[0m\u001b[0m\n\u001b[0;32m---> 10\u001b[0;31m \u001b[0mprint\u001b[0m\u001b[0;34m(\u001b[0m\u001b[0ml\u001b[0m\u001b[0;34m[\u001b[0m\u001b[0;36m0\u001b[0m\u001b[0;34m]\u001b[0m\u001b[0;34m)\u001b[0m\u001b[0;34m\u001b[0m\u001b[0;34m\u001b[0m\u001b[0m\n\u001b[0m",
      "\u001b[0;31mIndexError\u001b[0m: list index out of range"
     ]
    }
   ],
   "source": [
    "from itertools import permutations\n",
    "num=int(input())\n",
    "s=list(map(str,input().strip().split()))\n",
    "x=permutations(s,2)\n",
    "l=[]\n",
    "for i,j in x:\n",
    "    l.append(i+j)\n",
    "print(l)\n",
    "l.sort(reverse=True)\n",
    "print(l[0])"
   ]
  },
  {
   "cell_type": "code",
   "execution_count": 7,
   "id": "81e90820",
   "metadata": {},
   "outputs": [
    {
     "name": "stdout",
     "output_type": "stream",
     "text": [
      "mid char A\n",
      "ABC BAA\n",
      "new_string  BAAAABC\n",
      "mid_char A\n",
      "left BAA\n",
      "right ABC\n",
      "left after deletion B\n",
      "right after deletion BC\n",
      "BBC\n",
      "mid char B\n",
      "B C\n",
      "new_string  CBB\n",
      "mid_char B\n",
      "left C\n",
      "right B\n",
      "left after deletion C\n",
      "right after deletion \n",
      "C\n",
      "Your ans C\n"
     ]
    }
   ],
   "source": [
    "def func(string):\n",
    "    length=len(string)\n",
    "    if(length>=2):\n",
    "        mid_value=length//2\n",
    "        mid_char=string[mid_value]\n",
    "        print(\"mid char\",mid_char)\n",
    "        left=string[:mid_value]\n",
    "        right=string[mid_value+1:]\n",
    "        print(left,right)\n",
    "        NewString(right+mid_char+left)\n",
    "    else:\n",
    "        print(\"Your ans\",string)\n",
    "    \n",
    "\n",
    "def NewString(new_string):\n",
    "    print(\"new_string \",new_string)\n",
    "    length=len(new_string)\n",
    "    if(length>=2):\n",
    "        mid_value=length//2\n",
    "        mid_char=new_string[mid_value]\n",
    "        print(\"mid_char\",mid_char)\n",
    "        left=new_string[:mid_value]\n",
    "        right=new_string[mid_value+1:]\n",
    "        new_left=\"\"\n",
    "        print(\"left\",left)\n",
    "        print(\"right\",right)\n",
    "        for i in left[::-1]:\n",
    "            if(i==mid_char):\n",
    "                pass\n",
    "            else:\n",
    "                new_left=new_left+i\n",
    "        print(\"left after deletion\",new_left)\n",
    "        new_right=\"\"\n",
    "        for i in right:\n",
    "            if(i==mid_char):\n",
    "                pass\n",
    "            else:\n",
    "                new_right=new_right+i\n",
    "        print(\"right after deletion\",new_right)\n",
    "        new_string=new_left+new_right\n",
    "        print(new_string)\n",
    "        func(new_string)\n",
    "    \n",
    "string=\"ABCABAA\"\n",
    "func(string)"
   ]
  },
  {
   "cell_type": "code",
   "execution_count": null,
   "id": "c4b88e47",
   "metadata": {},
   "outputs": [],
   "source": [
    "def func(string):\n",
    "    length=len(string)\n",
    "    if(length>=2):\n",
    "        mid_value=length//2\n",
    "        mid_char=string[mid_value]\n",
    "        print(\"mid char\",mid_char)\n",
    "        left=string[:mid_value]\n",
    "        right=string[mid_value+1:]\n",
    "        print(left,right)\n",
    "        NewString(right+mid_char+left,right,left,mid_char,length)\n",
    "    else:\n",
    "        print(\"Your ans\",string)\n",
    "    \n",
    "\n",
    "def NewString(new_string,left,right,mid_char,length):\n",
    "    print(\"new_string \",new_string)\n",
    "    new_left=\"\"\n",
    "    left_list=list(left[::-1].strip(\"\"))\n",
    "    right_list=list(right.strip(\"\"))\n",
    "    print(left_list)\n",
    "    for i in left_list:\n",
    "        print(i)\n",
    "        if(i==mid_char):\n",
    "            left_list.remove(i)\n",
    "            print(left_list)\n",
    "        else:\n",
    "            break\n",
    "    print(left_list)\n",
    "    left=\"\".join(left_list[::-1])\n",
    "    print(left)\n",
    "string=\"ABCABAA\"\n",
    "func(string)"
   ]
  },
  {
   "cell_type": "code",
   "execution_count": null,
   "id": "c3ba62e7",
   "metadata": {},
   "outputs": [],
   "source": [
    "s=\"AABAABAA\"\n",
    "new_s=list(s.strip(\"\"))\n",
    "print(\"original\",new_s)\n",
    "for i in new_s:\n",
    "    print(i)\n",
    "    if(i!=\"A\"):\n",
    "        break\n",
    "    else:\n",
    "        print(\"removed\",i)\n",
    "        new_s.remove(i)\n",
    "        i=0\n",
    "        print(new_s)\n",
    "print(new_s)"
   ]
  },
  {
   "cell_type": "code",
   "execution_count": null,
   "id": "5943f7d4",
   "metadata": {},
   "outputs": [],
   "source": [
    "s=\"AABAABAA\"\n",
    "new_s=list(s.strip(\"\"))\n",
    "s1=new_s\n",
    "for i in range(0,len(new_s)):\n",
    "    print(i)\n",
    "    print(\"new_s\",new_s)\n",
    "    print(new_s[i])\n",
    "    if(new_s[i]==\"A\"):\n",
    "        s1=s1[1:]\n",
    "        print(\"s1\",s1)\n",
    "    else:\n",
    "        break\n",
    "    \n",
    "print(s1)"
   ]
  },
  {
   "cell_type": "code",
   "execution_count": null,
   "id": "cbd3cd64",
   "metadata": {},
   "outputs": [],
   "source": [
    "from itertools import combinations\n",
    "from itertools import product\n",
    "from collections import OrderedDict\n",
    "numbers=[1,4,-5,3,1,0,-1,9]\n",
    "print(sum(numbers))\n",
    "l=[]\n",
    "dict1={}\n",
    "for i in range(2,len(numbers)):\n",
    "    x=map(list,combinations(numbers,i))\n",
    "    for i in x:\n",
    "        dict1[sum(i)]=i\n",
    "for i in OrderedDict(dict1.key()):\n",
    "    print(i,dict1[i])\n"
   ]
  },
  {
   "cell_type": "markdown",
   "id": "c4f0405f",
   "metadata": {},
   "source": []
  },
  {
   "cell_type": "code",
   "execution_count": null,
   "id": "67ba6a37",
   "metadata": {},
   "outputs": [],
   "source": [
    "from itertools import permutations\n",
    "from itertools import combinations\n",
    "numbers=[1,4,-5,4,2]\n",
    "print(sum(numbers))\n",
    "dict1={}\n",
    "for i in range(2,len(numbers)):\n",
    "    x=map(list,combinations(numbers,i))\n",
    "    for i in x:\n",
    "        dict1[sum(i)]=i\n",
    "for i in dict1:\n",
    "        "
   ]
  },
  {
   "cell_type": "code",
   "execution_count": null,
   "id": "6a2eedb0",
   "metadata": {},
   "outputs": [],
   "source": [
    "numbers=[1,4,-5,3,1,0,-1,2]\n",
    "ans=0\n",
    "l=[]\n",
    "for i in range(len(numbers)):\n",
    "    if(numbers[i]<0):\n",
    "        numbers[i]=0\n",
    "print(numbers)\n",
    "\n",
    "\n",
    "\n",
    "\n",
    "\n",
    "\n"
   ]
  },
  {
   "cell_type": "code",
   "execution_count": null,
   "id": "2c30d79b",
   "metadata": {},
   "outputs": [],
   "source": [
    "# Enter your code here. Read input from STDIN. Print output to STDOUT\n",
    "import sys\n",
    "def line_split(line):\n",
    "    if(line[1]=='M' or line[1]=='V' or line[1]=='C'):\n",
    "        x=line[2].replace('()','')\n",
    "        pos=0\n",
    "        for i in range(len(x)):\n",
    "            if(x[i].isupper() and i !=0):\n",
    "                print(x[pos:i].lower(),end=\" \")\n",
    "                pos=i\n",
    "        print(x[pos:].lower()) \n",
    "                               \n",
    "def line_combine(line):\n",
    "    if(line[1]=='M'):\n",
    "        pos=0\n",
    "        x=line[2]+\"()\"\n",
    "        ans=\"\"\n",
    "        for i in range(len(x)):\n",
    "            if(x[i].isupper() and i !=0):\n",
    "                ans += x[pos:i].tile()\n",
    "                pos=i\n",
    "        ans+=x[pos:].title()  \n",
    "        ans=ans.replace(\" \",\"\")\n",
    "        a=\"\"\n",
    "        for i in range(len(ans)):\n",
    "            if(i==0):\n",
    "                a +=ans[i].lower()\n",
    "            else:\n",
    "                a +=ans[i]\n",
    "        print(a)\n",
    "    if(line[1]=='V'):\n",
    "        pos=0\n",
    "        x=line[2]\n",
    "        ans=\"\"\n",
    "        for i in range(len(x)):\n",
    "            if(x[i].isupper() and i !=0):\n",
    "                ans += x[pos:i].tile()\n",
    "                pos=i\n",
    "        ans+=x[pos:].title()  \n",
    "        ans=ans.replace(\" \",\"\")\n",
    "        a=\"\"\n",
    "        for i in range(len(ans)):\n",
    "            if(i==0):\n",
    "                a +=ans[i].lower()\n",
    "            else:\n",
    "                a +=ans[i]\n",
    "        print(a)\n",
    "    if(line[1]=='C'):\n",
    "        pos=0\n",
    "        x=line[2]\n",
    "        ans=\"\"\n",
    "        for i in range(len(x)):\n",
    "            if(x[i].isupper() and i !=0):\n",
    "                ans += x[pos:i].tile()\n",
    "                pos=i\n",
    "        ans+=x[pos:].title()  \n",
    "        ans=ans.replace(\" \",\"\")\n",
    "        print(ans)\n",
    "\n",
    "s = sys.stdin.read()\n",
    "for i in s.split(\"\\n\"):\n",
    "    line=i.split(\";\")\n",
    "    if(line[0]=='S'):\n",
    "        line_split(line)\n",
    "    elif(line[0]=='C'):\n",
    "        line_combine(line)\n",
    "        "
   ]
  },
  {
   "cell_type": "code",
   "execution_count": null,
   "id": "79dfb8b6",
   "metadata": {},
   "outputs": [],
   "source": []
  },
  {
   "cell_type": "code",
   "execution_count": null,
   "id": "d03d179e",
   "metadata": {},
   "outputs": [],
   "source": [
    "n=6\n",
    "arr=[1,4,3,2,6,7]\n",
    "\n",
    "begin=0\n",
    "addr=0\n",
    "count=0\n",
    "print(arr)"
   ]
  },
  {
   "cell_type": "code",
   "execution_count": 1,
   "id": "06250a79",
   "metadata": {},
   "outputs": [
    {
     "name": "stdout",
     "output_type": "stream",
     "text": [
      "()\n",
      "s_a ['(']\n",
      "s_p 1 1\n",
      "s_a ['(']\n",
      "0\n"
     ]
    }
   ],
   "source": [
    "x=input()\n",
    "x=list(x)\n",
    "x_open=[\"{\",\"(\",\"[\"]\n",
    "x_close=[\"}\",\")\",\"]\"]\n",
    "s=[]\n",
    "if(len(x)<=1):\n",
    "    print(0)\n",
    "    exit()    \n",
    "else:\n",
    "    for i in x:\n",
    "        if i in x_open:\n",
    "            s.append(i)\n",
    "            print(\"s_a\",s)\n",
    "        elif(i==len(x) or len(s)==0):\n",
    "            print(\"0\")\n",
    "        else:\n",
    "            if(x_close.index(i)==x_open.index(s[len(s)-1])):\n",
    "                print(\"s_p\",x_open.index(s[len(s)-1]),x_close.index(i))\n",
    "                print(\"s_a\",s)\n",
    "                s.pop()\n",
    "    if(len(s)<=1):\n",
    "        print(\"0\")\n",
    "        \n",
    "    "
   ]
  },
  {
   "cell_type": "code",
   "execution_count": 30,
   "id": "809479fd",
   "metadata": {},
   "outputs": [
    {
     "name": "stdout",
     "output_type": "stream",
     "text": [
      "6 13\n",
      "1 4 45 6 10 8\n",
      "[1, 4, 45, 6, 10, 8] 3\n",
      "2\n",
      "t [1, 4, 45, 6, 10, 8]\n",
      "[]\n",
      "here\n",
      "i (1, 4, 8)\n"
     ]
    }
   ],
   "source": [
    "from itertools import combinations,permutations\n",
    "N,X=map(int,input().split(\" \"))\n",
    "A=list(map(int,input().strip().split()))\n",
    "k=13\n",
    "t=A\n",
    "flag=0\n",
    "print(A,3)\n",
    "for i in range(N):\n",
    "    if A[i]>=X:\n",
    "        print(i)\n",
    "        \n",
    "print(\"t\",t)\n",
    "val=combinations(t,3)\n",
    "print(list(val1))\n",
    "for i in val:\n",
    "    for j in i:\n",
    "        if(j>k):\n",
    "            print(\"here\")\n",
    "            break\n",
    "    if(sum(i)==k):\n",
    "        print(\"i\",i)\n",
    "        break"
   ]
  },
  {
   "cell_type": "code",
   "execution_count": null,
   "id": "d820916e",
   "metadata": {},
   "outputs": [],
   "source": []
  },
  {
   "cell_type": "code",
   "execution_count": null,
   "id": "14aded73",
   "metadata": {},
   "outputs": [],
   "source": []
  },
  {
   "cell_type": "markdown",
   "id": "f24f7720",
   "metadata": {},
   "source": [
    "Binary Search Tree"
   ]
  },
  {
   "cell_type": "code",
   "execution_count": 35,
   "id": "3546a016",
   "metadata": {},
   "outputs": [
    {
     "name": "stdout",
     "output_type": "stream",
     "text": [
      "[4]\n"
     ]
    }
   ],
   "source": [
    "            class BinarySearchTreeNode:\n",
    "                def __init__(self,data):\n",
    "                    self.data=data\n",
    "                    self.left=None\n",
    "                    self.right=None\n",
    "\n",
    "                def addchild(self,data):\n",
    "                    if data==self.data:\n",
    "                        return\n",
    "                    if data<self.data:\n",
    "                        if self.left:\n",
    "                            self.left.addchild()\n",
    "                        else:\n",
    "                            BinarySearchTreeNode(data) \n",
    "                    else:\n",
    "                        if self.right:\n",
    "                            self.right.addchild()\n",
    "                        else:\n",
    "                            BinarySearchTreeNode(data)\n",
    "\n",
    "\n",
    "                def inorderTraversal(self):\n",
    "                    elements=[]\n",
    "                    if self.left:\n",
    "                        elements+=self.left.inorderTraversal()\n",
    "                    elements.append(self.data)\n",
    "                    if self.right:\n",
    "                        elements+=self.right.inorderTraversal()\n",
    "                    return elements\n",
    "\n",
    "            def buildTree(elements):\n",
    "                root = BinarySearchTreeNode(elements[0])\n",
    "                for i in range(1,len(elements)):\n",
    "                    root.addchild(elements[i])\n",
    "                return root\n",
    "\n",
    "            if __name__ == '__main__':\n",
    "                elements=buildTree([4,1,2,7,5])\n",
    "                print(elements.inorderTraversal())"
   ]
  },
  {
   "cell_type": "code",
   "execution_count": null,
   "id": "aed482fc",
   "metadata": {},
   "outputs": [],
   "source": []
  },
  {
   "cell_type": "code",
   "execution_count": 4,
   "id": "b14b8673",
   "metadata": {},
   "outputs": [
    {
     "name": "stdout",
     "output_type": "stream",
     "text": [
      "[1, 2, 4, 5, 6, 7, 8, 9]\n",
      "True\n"
     ]
    }
   ],
   "source": [
    "class BinarySearchTreeNode:\n",
    "\tdef __init__(self,data):\n",
    "\t\tself.data=data\n",
    "\t\tself.left=None\n",
    "\t\tself.right=None\n",
    "\tdef addchild(self,data):\n",
    "\t\tif data==self.data:\n",
    "\t\t\treturn\n",
    "\t\tif data<self.data:\n",
    "\t\t\tif self.left:\n",
    "\t\t\t\tself.left.addchild(data)\n",
    "\t\t\telse:\n",
    "\t\t\t\tself.left=BinarySearchTreeNode(data)\n",
    "\t\telse:\n",
    "\t\t\tif self.right:\n",
    "\t\t\t\tself.right.addchild(data)\n",
    "\t\t\telse:\n",
    "\t\t\t\tself.right=BinarySearchTreeNode(data)\n",
    "\tdef inorderT(self):\n",
    "\t\telements=[]\n",
    "\t\tif self.left:\n",
    "\t\t\telements+=self.left.inorderT()\n",
    "\t\telements.append(self.data)\n",
    "\t\tif self.right:\n",
    "\t\t\telements+=self.right.inorderT()\n",
    "\n",
    "\t\treturn elements\n",
    "\tdef search(self,val):\n",
    "\t\tif val == self.data:\n",
    "\t\t\treturn True\n",
    "\t\tif val<self.data:\n",
    "\t\t\tif self.left:\n",
    "\t\t\t\treturn self.left.search(val)\n",
    "\t\t\telse:\n",
    "\t\t\t\treturn False\n",
    "\t\tif val>self.data:\n",
    "\t\t\tif self.right:\n",
    "\t\t\t\treturn self.right.search(val)\n",
    "\t\t\telse:\n",
    "\t\t\t\treturn False\n",
    "\n",
    "def buildTree(numbers):\n",
    "\troot=BinarySearchTreeNode(numbers[0])\n",
    "\tfor i in range(1,len(numbers)):\n",
    "\t\troot.addchild(numbers[i])\n",
    "\treturn root\n",
    "if __name__ == '__main__':\n",
    "\tnumbers=[4,1,2,8,7,4,5,9,6,4]\n",
    "\tbuild=buildTree(numbers)\n",
    "\tprint(build.inorderT())\n",
    "\tprint(build.search(5))"
   ]
  },
  {
   "cell_type": "code",
   "execution_count": 14,
   "id": "be720c9e",
   "metadata": {},
   "outputs": [
    {
     "name": "stdout",
     "output_type": "stream",
     "text": [
      "<__main__.BinarySearchTreeNode object at 0x7fd80c431c60>\n",
      "[1, 2, 4, 5, 6, 7]\n",
      "[1, 4]\n"
     ]
    }
   ],
   "source": [
    "class BinarySearchTreeNode:\n",
    "\tdef __init__(self,data):\n",
    "\t\tself.data=data\n",
    "\t\tself.left=None\n",
    "\t\tself.right=None\n",
    "\tdef addchild(self,data):\n",
    "\t\tif data==self.data:\n",
    "\t\t\treturn\n",
    "\t\tif data<self.data:\n",
    "\t\t\tif self.left:\n",
    "\t\t\t\tself.left.addchild(data)\n",
    "\t\t\telse:\n",
    "\t\t\t\tself.left=BinarySearchTreeNode(data)\n",
    "\t\tif data>self.data:\n",
    "\t\t\tif self.right:\n",
    "\t\t\t\tself.right.addchild(data)\n",
    "\t\t\telse:\n",
    "\t\t\t\tself.right=BinarySearchTreeNode(data)\n",
    "\tdef inorder(self):\n",
    "\t\telements=[]\n",
    "\t\tif self.left:\n",
    "\t\t\telements+=self.left.inorder()\n",
    "\t\telements.append(self.data)\n",
    "\t\tif self.right:\n",
    "\t\t\telements+=self.right.inorder()\n",
    "\t\treturn elements\n",
    "\tdef leftview(self):\n",
    "\t\telements=[]\n",
    "\t\tif self.left:\n",
    "\t\t\telements+=self.left.leftview()\n",
    "\t\telements.append(self.data)\n",
    "\t\treturn elements\n",
    "def buildTree(elements):\n",
    "\troot=BinarySearchTreeNode(elements[0])\n",
    "\tfor i in range(1,len(elements)):\n",
    "\t\troot.addchildchild(elements[i])\n",
    "\treturn root\n",
    "if __name__ == '__main__':\n",
    "\tlist1=[4,6,1,5,7,4,2]\n",
    "\tans=buildTree(list1)\n",
    "\tprint(ans)\n",
    "\tprint(ans.inorder())\n",
    "\tprint(ans.leftview())"
   ]
  },
  {
   "cell_type": "code",
   "execution_count": 26,
   "id": "e73e8752",
   "metadata": {},
   "outputs": [
    {
     "name": "stdout",
     "output_type": "stream",
     "text": [
      "thur\n",
      "Mon\n",
      "Tue\n",
      "Wed\n"
     ]
    }
   ],
   "source": [
    "#linkedlist adding data at first and traversal\n",
    "class Node:\n",
    "\tdef __init__(self,dataval):\n",
    "\t\tself.dataval=dataval\n",
    "\t\tself.nextval=None\n",
    "class LinkedList:\n",
    "\tdef __init__(self):\n",
    "\t\tself.headval=None\n",
    "\tdef printlist(self):\n",
    "\t\tprintval=self.headval\n",
    "\t\twhile printval is not None:\n",
    "\t\t\tprint(printval.dataval)\n",
    "\t\t\tprintval=printval.nextval\n",
    "\tdef addinfirst(self,newval):\n",
    "\t\tnewnode=Node(newval)\n",
    "\t\tnewnode.nextval=self.headval\n",
    "\t\tself.headval=newnode\n",
    "\n",
    "\n",
    "\n",
    "if __name__ == '__main__':\n",
    "\tlist1=LinkedList()\n",
    "\tlist1.headval=Node(\"Mon\")\n",
    "\te2=Node(\"Tue\")\n",
    "\te3=Node(\"Wed\")\n",
    "\tlist1.headval.nextval=e2\n",
    "\te2.nextval=e3\n",
    "\tlist1.addinfirst(\"thur\")\n",
    "\tlist1.printlist()"
   ]
  },
  {
   "cell_type": "code",
   "execution_count": 31,
   "id": "d9789634",
   "metadata": {},
   "outputs": [
    {
     "name": "stdout",
     "output_type": "stream",
     "text": [
      "Mon\n",
      "Tue\n",
      "Wed\n",
      "----------\n",
      "Mon\n",
      "Tue\n",
      "Wed\n",
      "thur\n"
     ]
    }
   ],
   "source": [
    "class Node:\n",
    "\tdef __init__(self,dataval):\n",
    "\t\tself.dataval=dataval\n",
    "\t\tself.nextval=None\n",
    "class LinkedList:\n",
    "\tdef __init__(self):\n",
    "\t\tself.headval=None\n",
    "\tdef printlist(self):\n",
    "\t\tprintval=self.headval\n",
    "\t\twhile printval is not None:\n",
    "\t\t\tprint(printval.dataval)\n",
    "\t\t\tprintval=printval.nextval\n",
    "\tdef addinlast(self,newval):\n",
    "\t\tnewnode=Node(newval)\n",
    "\t\tif self.headval is None:\n",
    "\t\t\tself.headval=newnode\n",
    "\t\t\treturn\n",
    "\t\tlast=self.headval\n",
    "\t\twhile last.nextval:\n",
    "\t\t\tlast=last.nextval\n",
    "\t\tlast.nextval=newnode\n",
    "\n",
    "if __name__ == '__main__':\n",
    "\tlist1=LinkedList()\n",
    "\tlist1.headval=Node(\"Mon\")\n",
    "\te2=Node(\"Tue\")\n",
    "\te3=Node(\"Wed\")\n",
    "\tlist1.headval.nextval=e2\n",
    "\te2.nextval=e3\n",
    "\tlist1.printlist()\n",
    "\tprint(\"----------\")\n",
    "\tlist1.addinlast(\"thur\")\n",
    "\tlist1.printlist()"
   ]
  },
  {
   "cell_type": "code",
   "execution_count": 7,
   "id": "9acabfa9",
   "metadata": {},
   "outputs": [
    {
     "name": "stdout",
     "output_type": "stream",
     "text": [
      "Mon\n",
      "Tue\n",
      "Wed\n",
      "None\n"
     ]
    }
   ],
   "source": [
    "class Node:\n",
    "\tdef __init__(self,dataval):\n",
    "\t\tself.dataval=dataval\n",
    "\t\tself.nextval=None\n",
    "class LinkedList:\n",
    "\tdef __init__(self):\n",
    "\t\tself.headval=None\n",
    "\tdef printlist(self):\n",
    "\t\tprintval=self.headval\n",
    "\t\twhile printval is not None:\n",
    "\t\t\tprint(printval.dataval)\n",
    "\t\t\tprintval=printval.nextval\n",
    "\n",
    "if __name__ == '__main__':\n",
    "\tlist1=LinkedList()\n",
    "\tlist1.headval=Node(\"Mon\")\n",
    "\te2=Node(\"Tue\")\n",
    "\te3=Node(\"Wed\")\n",
    "\tlist1.headval.nextval=e2\n",
    "\te2.nextval=e3\n",
    "\tprint(list1.printlist())\n",
    "\n"
   ]
  },
  {
   "cell_type": "code",
   "execution_count": 4,
   "id": "00cbde97",
   "metadata": {},
   "outputs": [
    {
     "name": "stdout",
     "output_type": "stream",
     "text": [
      "[(2, 'C'), (3, 'B'), (5, 'A')]\n"
     ]
    }
   ],
   "source": [
    "dict1={5:'A',3:'B',2:'C'}\n",
    "dict2=list(dict1.items())\n",
    "for i in range(len(dict2)):\n",
    "    for j in range(i+1,len(dict2)):\n",
    "                   if dict2[i]>dict2[j]:\n",
    "                       dict2[i],dict2[j]=dict2[j],dict2[i]\n",
    "print(dict2)"
   ]
  },
  {
   "cell_type": "code",
   "execution_count": 9,
   "id": "965880f4",
   "metadata": {},
   "outputs": [
    {
     "name": "stdout",
     "output_type": "stream",
     "text": [
      "Name: Jessa 14\n"
     ]
    }
   ],
   "source": [
    "class Student:\n",
    "    def __init__(self, name, age):\n",
    "        # private member\n",
    "        self.name = name\n",
    "        self.__age = age\n",
    "\n",
    "    # getter method\n",
    "    #def get_age(self,__age):\n",
    "    #    return self.__age\n",
    "\n",
    "    # setter method\n",
    "    #def set_age(self, age):\n",
    "    #    self.__age = age\n",
    "\n",
    "stud = Student('Jessa', 14)\n",
    "\n",
    "# retrieving age using getter\n",
    "print('Name:', stud.name, stud._Student__age)\n",
    "\n",
    "# changing age using setter\n",
    "#stud.get_age(16)\n",
    "\n",
    "# retrieving age using getter\n",
    "#print('Name:', stud.name, stud.get_age())"
   ]
  },
  {
   "cell_type": "code",
   "execution_count": null,
   "id": "2b37d09e",
   "metadata": {},
   "outputs": [],
   "source": []
  }
 ],
 "metadata": {
  "kernelspec": {
   "display_name": "Python 3 (ipykernel)",
   "language": "python",
   "name": "python3"
  },
  "language_info": {
   "codemirror_mode": {
    "name": "ipython",
    "version": 3
   },
   "file_extension": ".py",
   "mimetype": "text/x-python",
   "name": "python",
   "nbconvert_exporter": "python",
   "pygments_lexer": "ipython3",
   "version": "3.10.6"
  }
 },
 "nbformat": 4,
 "nbformat_minor": 5
}
