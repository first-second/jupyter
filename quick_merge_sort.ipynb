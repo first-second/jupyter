{
 "cells": [
  {
   "cell_type": "code",
   "execution_count": 3,
   "id": "45b83979",
   "metadata": {},
   "outputs": [
    {
     "name": "stdout",
     "output_type": "stream",
     "text": [
      "True\n"
     ]
    }
   ],
   "source": [
    "#palindrome string nitin\n",
    "\n",
    "def palindrome(s):\n",
    "    if s==s[::-1]:\n",
    "        return True\n",
    "    else:\n",
    "        return False\n",
    "    \n",
    "s='nitin'\n",
    "ans=palindrome(s)\n",
    "print(ans)\n"
   ]
  },
  {
   "cell_type": "code",
   "execution_count": 8,
   "id": "33393b38",
   "metadata": {},
   "outputs": [
    {
     "name": "stdout",
     "output_type": "stream",
     "text": [
      "12321\n"
     ]
    }
   ],
   "source": [
    "#palindrome number 12321\n",
    "def palindrome(val):\n",
    "    rev=0\n",
    "    while val!=0: \n",
    "        rem=val%10 #12321%10 1 \n",
    "        rev=rev*10+rem #1\n",
    "        val=val//10\n",
    "    print(rev)\n",
    "    return 0\n",
    "    \n",
    "n=12321\n",
    "ans=palindrome(n)"
   ]
  },
  {
   "cell_type": "code",
   "execution_count": 15,
   "id": "cc8cadbc",
   "metadata": {},
   "outputs": [
    {
     "name": "stdout",
     "output_type": "stream",
     "text": [
      "0\n",
      "1\n",
      "1\n",
      "2\n",
      "3\n",
      "5\n",
      "8\n",
      "13\n",
      "21\n",
      "34\n",
      "55\n",
      "89\n",
      "144\n",
      "233\n",
      "377\n",
      "610\n",
      "987\n",
      "1597\n",
      "2584\n",
      "4181\n"
     ]
    }
   ],
   "source": [
    "#fibonacci series 0 1 1 2 3 5 8 13\n",
    "def fib(num):\n",
    "    if num <=1:\n",
    "        return num\n",
    "    else:\n",
    "        return (fib(num-1)+fib(num-2))\n",
    "    \n",
    "\n",
    "n=20\n",
    "for i in range(n):\n",
    "    print(fib(i))"
   ]
  },
  {
   "cell_type": "code",
   "execution_count": 19,
   "id": "f99f865f",
   "metadata": {},
   "outputs": [
    {
     "name": "stdout",
     "output_type": "stream",
     "text": [
      "a2b3c5d8e11f13\n"
     ]
    }
   ],
   "source": [
    "#compress string\n",
    "#input -- aabbcccddddeeeefff\n",
    "#output -- a2b2c3d4e4f3\n",
    "def string(s):\n",
    "    ans=''\n",
    "    count=1\n",
    "    for i in range(len(s)-1):\n",
    "        if s[i]==s[i+1]:\n",
    "            count+=1\n",
    "        else:\n",
    "            ans=ans+s[i]+str(count)\n",
    "    ans=ans+s[len(s)-1]+str(count)\n",
    "    return ans\n",
    "        \n",
    "\n",
    "s='aabbcccddddeeeefff'\n",
    "print(string(s))"
   ]
  },
  {
   "cell_type": "code",
   "execution_count": 36,
   "id": "d54a6a2a",
   "metadata": {},
   "outputs": [
    {
     "name": "stdout",
     "output_type": "stream",
     "text": [
      "minimum n\n",
      "{'n': 3, 'w': 2, 'a': 3, 'e': 1, 'l': 2, 'i': 1, 'g': 1, 'b': 1, 'd': 1, 'k': 2, 'c': 1}\n"
     ]
    }
   ],
   "source": [
    "#character occurence\n",
    "def func(s):\n",
    "    ch={}\n",
    "    for i in s:\n",
    "        if i in ch:\n",
    "            ch[i]=ch[i]+1\n",
    "        else:\n",
    "            ch[i]=1\n",
    "    print(\"minimum\",max(ch,key=ch.get))\n",
    "    print(ch)\n",
    "    \n",
    "s=\"nwaewlingbanldkcka\"\n",
    "func(s)\n",
    "\n"
   ]
  },
  {
   "cell_type": "markdown",
   "id": "d4c335b0",
   "metadata": {},
   "source": [
    "Quick Sort"
   ]
  },
  {
   "cell_type": "code",
   "execution_count": 12,
   "id": "17ba113c",
   "metadata": {},
   "outputs": [
    {
     "name": "stdout",
     "output_type": "stream",
     "text": [
      "[1, 5, 7, 8, 9, 10]\n"
     ]
    }
   ],
   "source": [
    "def partition(array,low,high):\n",
    "    pivot=array[high]\n",
    "    i=low-1\n",
    "    for j in range(low,high):\n",
    "        if array[j]<=pivot:\n",
    "            i=i+1\n",
    "            array[i],array[j]=array[j],array[i]\n",
    "    array[i+1],array[high]=array[high],array[i+1]\n",
    "    \n",
    "    return i+1\n",
    "def quick_sort(array ,low,high):\n",
    "    if low<high:\n",
    "        pi=partition(array,low,high)\n",
    "        quick_sort(array,low,pi-1)\n",
    "        quick_sort(array,pi+1,high)\n",
    "array=[10,7,8,9,1,5]\n",
    "quick_sort(array,0,len(array)-1)\n",
    "print(array)"
   ]
  },
  {
   "cell_type": "raw",
   "id": "36ce8d69",
   "metadata": {},
   "source": [
    "Merge Sort"
   ]
  },
  {
   "cell_type": "code",
   "execution_count": 26,
   "id": "3c0a74ae",
   "metadata": {},
   "outputs": [
    {
     "name": "stdout",
     "output_type": "stream",
     "text": [
      "[5, 6, 7, 11, 12, 13]\n"
     ]
    }
   ],
   "source": [
    "def merge_sort(array):\n",
    "    if len(array)>1:\n",
    "        mid=len(array)//2\n",
    "        L=array[:mid]\n",
    "        R=array[mid:]\n",
    "        merge_sort(L)\n",
    "        merge_sort(R)\n",
    "        i=j=k=0\n",
    "        while i <len(L) and j<len(R):\n",
    "            if L[i]<=R[j]:\n",
    "                array[k]=L[i]\n",
    "                i=i+1\n",
    "            else:\n",
    "                array[k]=R[j]\n",
    "                j+=1\n",
    "            k+=1\n",
    "        while i <len(L):\n",
    "            array[k]=L[i]\n",
    "            i+=1\n",
    "            k+=1\n",
    "        while j<len(R):\n",
    "            array[k]=R[j]\n",
    "            j+=1\n",
    "            k+=1\n",
    "array=[12, 11, 13, 5, 6, 7]\n",
    "merge_sort(array)\n",
    "print(array)"
   ]
  },
  {
   "cell_type": "code",
   "execution_count": 36,
   "id": "be55848d",
   "metadata": {},
   "outputs": [
    {
     "name": "stdout",
     "output_type": "stream",
     "text": [
      "hello\n"
     ]
    }
   ],
   "source": [
    "i=[10,20]\n",
    "a=lambda : print(\"hello\")\n",
    "a()"
   ]
  },
  {
   "cell_type": "code",
   "execution_count": null,
   "id": "f0473cce",
   "metadata": {},
   "outputs": [],
   "source": []
  },
  {
   "cell_type": "code",
   "execution_count": null,
   "id": "fb2a698e",
   "metadata": {},
   "outputs": [],
   "source": []
  }
 ],
 "metadata": {
  "kernelspec": {
   "display_name": "Python 3 (ipykernel)",
   "language": "python",
   "name": "python3"
  },
  "language_info": {
   "codemirror_mode": {
    "name": "ipython",
    "version": 3
   },
   "file_extension": ".py",
   "mimetype": "text/x-python",
   "name": "python",
   "nbconvert_exporter": "python",
   "pygments_lexer": "ipython3",
   "version": "3.10.6"
  }
 },
 "nbformat": 4,
 "nbformat_minor": 5
}
